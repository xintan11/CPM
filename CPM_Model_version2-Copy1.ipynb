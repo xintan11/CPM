{
 "cells": [
  {
   "cell_type": "code",
   "execution_count": 529,
   "source": [
    "import tensorflow as tf\n",
    "import pandas as pd\n",
    "import numpy as np\n",
    "from tqdm import tqdm\n",
    "from matplotlib import pyplot as plt\n",
    "import os\n",
    "\n",
    "print(tf.__version__)"
   ],
   "outputs": [
    {
     "output_type": "stream",
     "name": "stdout",
     "text": [
      "2.5.0\n"
     ]
    }
   ],
   "metadata": {
    "scrolled": false
   }
  },
  {
   "cell_type": "code",
   "execution_count": 530,
   "source": [
    "from utils import *"
   ],
   "outputs": [],
   "metadata": {}
  },
  {
   "cell_type": "code",
   "execution_count": 531,
   "source": [
    "# get data\n",
    "xin_dataset = pd.read_csv(r'../no_backup/data/losses_bids_20210804-de+us+ru+jp_new.csv',low_memory=False)\n",
    "#xin_dataset = pd.read_csv(r'../no_backup/data/losses_bids_20210705-de+us+ru+jp_new.csv',low_memory=False)\n",
    "df = xin_dataset.copy()\n",
    "df.info()\n",
    "df.shape"
   ],
   "outputs": [
    {
     "output_type": "stream",
     "name": "stdout",
     "text": [
      "<class 'pandas.core.frame.DataFrame'>\n",
      "RangeIndex: 1345776 entries, 0 to 1345775\n",
      "Data columns (total 20 columns):\n",
      " #   Column                        Non-Null Count    Dtype  \n",
      "---  ------                        --------------    -----  \n",
      " 0   id                            1345776 non-null  object \n",
      " 1   ts                            1345776 non-null  object \n",
      " 2   wins                          1345776 non-null  int64  \n",
      " 3   ad_size                       1345776 non-null  object \n",
      " 4   ad_type                       1345776 non-null  int64  \n",
      " 5   country                       1345776 non-null  object \n",
      " 6   partner                       1345776 non-null  object \n",
      " 7   publisher_app                 1345776 non-null  object \n",
      " 8   bid_price                     1345776 non-null  int64  \n",
      " 9   bid_price_eur                 1345776 non-null  int64  \n",
      " 10  floor_price                   1345776 non-null  int64  \n",
      " 11  floor_price_eur               1345776 non-null  int64  \n",
      " 12  clearing_price                1345776 non-null  int64  \n",
      " 13  clearing_price_eur            1345776 non-null  int64  \n",
      " 14  exchange_rate                 1345776 non-null  float64\n",
      " 15  second_highest_bid_price      1345776 non-null  int64  \n",
      " 16  second_highest_bid_price_eur  1345776 non-null  int64  \n",
      " 17  minimum_bid_to_win            1345776 non-null  int64  \n",
      " 18  adx_loss_reason               1345776 non-null  int64  \n",
      " 19  winning_bid                   1345776 non-null  int64  \n",
      "dtypes: float64(1), int64(13), object(6)\n",
      "memory usage: 205.3+ MB\n"
     ]
    },
    {
     "output_type": "execute_result",
     "data": {
      "text/plain": [
       "(1345776, 20)"
      ]
     },
     "metadata": {},
     "execution_count": 531
    }
   ],
   "metadata": {}
  },
  {
   "cell_type": "code",
   "execution_count": 532,
   "source": [
    "df.rename(columns={'minimum_bid_to_win': 'win_price'}, inplace=True)"
   ],
   "outputs": [],
   "metadata": {}
  },
  {
   "cell_type": "code",
   "execution_count": 533,
   "source": [
    "# Sort data by time (test set will be latest observations)\n",
    "df.sort_values(\"ts\", inplace=True)"
   ],
   "outputs": [],
   "metadata": {}
  },
  {
   "cell_type": "code",
   "execution_count": null,
   "source": [
    "df.head().T"
   ],
   "outputs": [],
   "metadata": {}
  },
  {
   "cell_type": "markdown",
   "source": [
    "# Feature Engineering\n",
    "*'If your aim is to build an accurate model, try a larger dataset of your own, and think carefully about which **features** are the most meaningful to include, and how they should be represented.'*\n",
    "\n",
    "`ad_size`: [an artical tells ad size does matter](https://gimbal.com/best-mobile-ad-formats/)\n",
    "\n",
    "> `1200x627` is [only ad_size](https://remerge.atlassian.net/wiki/spaces/GLOS/pages/492437556/Native+Ads) for `native`.\\\n",
    "I will replace the `native` with  the `1200x627` for calculating the `ad_area` and the `ad_ratio`\n",
    "\n",
    "> `findings`: #TODO width or height has the correlation with price?\n",
    "\n"
   ],
   "metadata": {}
  },
  {
   "cell_type": "markdown",
   "source": [
    "`.str.split(): ` https://pandas.pydata.org/docs/reference/api/pandas.Series.str.split.html\n",
    "> 1. When using expand=True, the split elements will expand out into separate columns.\n",
    "> 2. series should be converted to string before using the function\n",
    "\n"
   ],
   "metadata": {}
  },
  {
   "cell_type": "code",
   "execution_count": 534,
   "source": [
    "# ad_size\n",
    "\n",
    "\n",
    "df['ad_size'] = df['ad_size'].replace('native','1200x627').replace('0x0','1x1')\n",
    "df['ad_width'] = df['ad_size'].str.split('x',expand = True)[0].astype(int) # 'x' is the split condition\n",
    "df['ad_height'] = df['ad_size'].str.split('x',expand = True)[1].astype(int)\n",
    "df['ad_area'] = df['ad_width'] * df['ad_height']\n",
    "df['ad_ratio']= np.log(df['ad_width']/df['ad_height'])\n",
    "    "
   ],
   "outputs": [],
   "metadata": {}
  },
  {
   "cell_type": "markdown",
   "source": [
    "# Train/Validation/Test (time-separated)"
   ],
   "metadata": {}
  },
  {
   "cell_type": "code",
   "execution_count": 535,
   "source": [
    "# 60/20/20\n",
    "from sklearn.model_selection import train_test_split\n",
    "\n",
    "train,valid_test_df = train_test_split(df, test_size=0.4, shuffle=False) # 0.6/0.4\n",
    "valid,test = train_test_split(valid_test_df, test_size=0.5, shuffle=False) # 40*0.5 for test\n",
    "\n",
    "print(train.shape, valid.shape, test.shape)"
   ],
   "outputs": [
    {
     "output_type": "stream",
     "name": "stdout",
     "text": [
      "(807465, 24) (269155, 24) (269156, 24)\n"
     ]
    }
   ],
   "metadata": {}
  },
  {
   "cell_type": "markdown",
   "source": [
    "# Bins\n",
    "\n",
    "**`Notice`**: \n",
    "\n",
    "1. Johannes sets the range of predictions to the maximum possible range in the system as [0;132050000]. \n",
    "> currently the maximum bidding price `df['bid_price_eur'].max()` satisfy this predefined price range, **BUT the winning price `df['clearing_price_eur'].max()` is far above this price range setting.** (on the one hand I think it make sense because we don't know the true clearing_price_eur, on the other hand I am not sure after knowing the true maximum possible clearing_prie could be 22 times larger than 132050000, would 132050000 too small for a upper bidding price bound?)\n",
    "\n",
    "2. `Max Winning Price` ≥ `Max Bidding Price` \n",
    "> take `>` when we lose the bid that cleared at a super high price\\\n",
    "> take `=` when we won the bid\n",
    "\n",
    "3. Check the distribution of the raw win price and log win price.\n",
    "> It seems that the winning price follows a log-normal distribution ? NO\n",
    "\n",
    "4. Get cut points\n",
    "> I have changed `maximum=max_win_price` to solve the consern in `1.`. The **reason is to keep the highest actual winning price information** in the model when cutting bins, although in most cases the bid landscape forcasting task will not take that information into consideration since rarely has bidding or winning price reach that high. After manually entering a very large upper bound, what appears immediately is that the last bin width becomes significantly larger. **Would that be a potential problem?** Yes, but the only impact is when you want to 99.99% win a high-valued bid, i.e. given the historical records and advertisement features the average bidding price to win such an impression is very high. Othewise you will never touch that extreme bidding price. There are other possible prices with the same win rate i.e. 99.99% in such a wide bin, **why it would return the upper bound of that bin?** To make sure you want a e.g. 60% win rate for a bid, the safe way is definitly returning the largest possible price, this applies to all bins."
   ],
   "metadata": {}
  },
  {
   "cell_type": "code",
   "execution_count": 536,
   "source": [
    "# 1. check the max paying price # \n",
    "max_win_price = df['win_price'].max() # here: win_price = clearing_price_eur\n",
    "min_win_price = df['win_price'].min()\n",
    "print('Max Winning Price: ', max_win_price)\n",
    "print('Min Winning Price: ', min_win_price)\n",
    "\n",
    "\n",
    "max_bid_price = df['bid_price_eur'].max()\n",
    "min_bid_price = df['bid_price_eur'].min()\n",
    "print('Max Bidding Price: ', max_bid_price)\n",
    "print('Min Bidding Price: ', min_bid_price)"
   ],
   "outputs": [
    {
     "output_type": "stream",
     "name": "stdout",
     "text": [
      "Max Winning Price:  147058830000\n",
      "Min Winning Price:  10000\n",
      "Max Bidding Price:  100050000\n",
      "Min Bidding Price:  8452\n"
     ]
    }
   ],
   "metadata": {}
  },
  {
   "cell_type": "code",
   "execution_count": 537,
   "source": [
    "df['win_price'].nunique()"
   ],
   "outputs": [
    {
     "output_type": "execute_result",
     "data": {
      "text/plain": [
       "17542"
      ]
     },
     "metadata": {},
     "execution_count": 537
    }
   ],
   "metadata": {}
  },
  {
   "cell_type": "code",
   "execution_count": null,
   "source": [],
   "outputs": [],
   "metadata": {}
  },
  {
   "cell_type": "code",
   "execution_count": 538,
   "source": [
    "# 2. Max Winning Price ≥ Max Bidding Price\n",
    "#df[df['win_price']== max_win_price][['bid_price_eur','win_price','minimum_bid_to_win','wins']]\n",
    "df[df['win_price']== max_win_price][['bid_price_eur','win_price','wins']]"
   ],
   "outputs": [
    {
     "output_type": "execute_result",
     "data": {
      "text/plain": [
       "         bid_price_eur     win_price  wins\n",
       "1209669          86671  147058830000     0"
      ],
      "text/html": [
       "<div>\n",
       "<style scoped>\n",
       "    .dataframe tbody tr th:only-of-type {\n",
       "        vertical-align: middle;\n",
       "    }\n",
       "\n",
       "    .dataframe tbody tr th {\n",
       "        vertical-align: top;\n",
       "    }\n",
       "\n",
       "    .dataframe thead th {\n",
       "        text-align: right;\n",
       "    }\n",
       "</style>\n",
       "<table border=\"1\" class=\"dataframe\">\n",
       "  <thead>\n",
       "    <tr style=\"text-align: right;\">\n",
       "      <th></th>\n",
       "      <th>bid_price_eur</th>\n",
       "      <th>win_price</th>\n",
       "      <th>wins</th>\n",
       "    </tr>\n",
       "  </thead>\n",
       "  <tbody>\n",
       "    <tr>\n",
       "      <th>1209669</th>\n",
       "      <td>86671</td>\n",
       "      <td>147058830000</td>\n",
       "      <td>0</td>\n",
       "    </tr>\n",
       "  </tbody>\n",
       "</table>\n",
       "</div>"
      ]
     },
     "metadata": {},
     "execution_count": 538
    }
   ],
   "metadata": {}
  },
  {
   "cell_type": "code",
   "execution_count": 539,
   "source": [
    "# There are several expensive winning prices as the largest one -> 2951772531 is not an outlier!\n",
    "df['win_price'].sort_values(ascending=False)"
   ],
   "outputs": [
    {
     "output_type": "execute_result",
     "data": {
      "text/plain": [
       "1209669    147058830000\n",
       "525014     100000000000\n",
       "344031       4161430000\n",
       "413311       3828010000\n",
       "666658       3032280000\n",
       "               ...     \n",
       "827442            10000\n",
       "1032219           10000\n",
       "323487            10000\n",
       "864804            10000\n",
       "1158518           10000\n",
       "Name: win_price, Length: 1345776, dtype: int64"
      ]
     },
     "metadata": {},
     "execution_count": 539
    }
   ],
   "metadata": {
    "scrolled": true
   }
  },
  {
   "cell_type": "code",
   "execution_count": 540,
   "source": [
    "# 3. check the distribution of the raw win price and log win price;raw bid price and raw log bid price.\n",
    "import seaborn as sns\n",
    "from scipy.stats import norm\n",
    "\n",
    "\n",
    "fig, axes = plt.subplots(nrows=2, ncols=2, figsize=(8,8))\n",
    "\n",
    "\n",
    "bid_price_data = df['bid_price_eur']\n",
    "bid_price_log_data = np.log(df['bid_price_eur'])\n",
    "win_price_data = df['win_price']\n",
    "win_price_log_data = np.log(df['win_price'])\n",
    "\n",
    "sns.distplot(bid_price_data,axlabel = 'bid price',ax=axes[0,0])\n",
    "sns.distplot(bid_price_log_data, fit=norm, axlabel = 'log bid price' ,ax=axes[0,1])\n",
    "sns.distplot(win_price_data,axlabel = 'win price',ax=axes[1,0])\n",
    "sns.distplot(win_price_log_data, fit=norm, axlabel = 'log win price' ,ax=axes[1,1])\n",
    "\n",
    "plt.show()"
   ],
   "outputs": [
    {
     "output_type": "stream",
     "name": "stderr",
     "text": [
      "/home/xin/.conda/envs/py38/lib/python3.8/site-packages/seaborn/distributions.py:2551: FutureWarning: `distplot` is a deprecated function and will be removed in a future version. Please adapt your code to use either `displot` (a figure-level function with similar flexibility) or `histplot` (an axes-level function for histograms).\n",
      "  warnings.warn(msg, FutureWarning)\n",
      "/home/xin/.conda/envs/py38/lib/python3.8/site-packages/seaborn/distributions.py:2551: FutureWarning: `distplot` is a deprecated function and will be removed in a future version. Please adapt your code to use either `displot` (a figure-level function with similar flexibility) or `histplot` (an axes-level function for histograms).\n",
      "  warnings.warn(msg, FutureWarning)\n",
      "/home/xin/.conda/envs/py38/lib/python3.8/site-packages/seaborn/distributions.py:2551: FutureWarning: `distplot` is a deprecated function and will be removed in a future version. Please adapt your code to use either `displot` (a figure-level function with similar flexibility) or `histplot` (an axes-level function for histograms).\n",
      "  warnings.warn(msg, FutureWarning)\n",
      "/home/xin/.conda/envs/py38/lib/python3.8/site-packages/seaborn/distributions.py:2551: FutureWarning: `distplot` is a deprecated function and will be removed in a future version. Please adapt your code to use either `displot` (a figure-level function with similar flexibility) or `histplot` (an axes-level function for histograms).\n",
      "  warnings.warn(msg, FutureWarning)\n"
     ]
    },
    {
     "output_type": "display_data",
     "data": {
      "text/plain": [
       "<Figure size 576x576 with 4 Axes>"
      ],
      "image/png": "[encoded data removed]"
     },
     "metadata": {
      "needs_background": "light"
     }
    }
   ],
   "metadata": {}
  },
  {
   "cell_type": "code",
   "execution_count": 541,
   "source": [
    "# statistic test for log-normal(just for fun)\n",
    "import scipy as sp\n",
    "#a=df['win_price']\n",
    "a= bid_price_log_data\n",
    "\n",
    "p=sp.stats.mstats.normaltest(a, axis=0).pvalue\n",
    "if p<0.1: # 0.05\n",
    "   print ('distribution is not normal')\n",
    "p=sp.stats.mstats.normaltest(np.log(a), axis=0).pvalue\n",
    "if p<0.1: # 0.05\n",
    "   print ('distribution is not log-normal')"
   ],
   "outputs": [
    {
     "output_type": "stream",
     "name": "stdout",
     "text": [
      "distribution is not normal\n",
      "distribution is not log-normal\n"
     ]
    }
   ],
   "metadata": {}
  },
  {
   "cell_type": "code",
   "execution_count": 558,
   "source": [
    "# 4. get cut points\n",
    "\n",
    "# choose one of the following price as the maximum\n",
    "#max_price = df['bid_price_eur'].max()\n",
    "max_price = df['win_price'].max()\n",
    "\n",
    "cuts = cut_generator(ncut=70, minimum=0, maximum=max_win_price, seed=134, # ncut=50\n",
    "                     empirical_data=train['win_price'], dist='empirical') \n",
    "print('No. of cuts before:', len(cuts))\n",
    "\n",
    "# combine empty bins\n",
    "cuts = cut_combiner(cuts, train['win_price'])\n",
    "print('No. of cuts after: ', len(cuts))\n",
    "print('Cuts: ', cuts.round(0))\n",
    "\n",
    "bins = np.insert(cuts, 0, 0) # bins start from 0 with the number 0\n",
    "bins = np.append(bins, max_price+1) # add max price as the the value of the last bin\n",
    "print(bins)"
   ],
   "outputs": [
    {
     "output_type": "stream",
     "name": "stdout",
     "text": [
      "No. of cuts before: 70\n",
      "No. of cuts after:  61\n",
      "Cuts:  [    50000     90000    110000    140000    150000    160000    180000\n",
      "    200000    220000    250000    280000    290000    300000    380000\n",
      "    420000    450000    500000    590000    640000    650000    690000\n",
      "    740000    960000    990000   1090000   1170000   1190000   1290000\n",
      "   1450000   2350000   2490000   2530000   2970000   3380000   3580000\n",
      "   3790000   3870000   3970000   4050000   5474965   6230000   6870000\n",
      "   7050000   7130000   7950000   8199999   8630000   9350000  10890000\n",
      "  12500000  12670000  13550000  14300000  14790000  16690000  20930000\n",
      "  30150000  57890000  66067929 121979183 141347565]\n",
      "[           0        50000        90000       110000       140000\n",
      "       150000       160000       180000       200000       220000\n",
      "       250000       280000       290000       300000       380000\n",
      "       420000       450000       500000       590000       640000\n",
      "       650000       690000       740000       960000       990000\n",
      "      1090000      1170000      1190000      1290000      1450000\n",
      "      2350000      2490000      2530000      2970000      3380000\n",
      "      3580000      3790000      3870000      3970000      4050000\n",
      "      5474965      6230000      6870000      7050000      7130000\n",
      "      7950000      8199999      8630000      9350000     10890000\n",
      "     12500000     12670000     13550000     14300000     14790000\n",
      "     16690000     20930000     30150000     57890000     66067929\n",
      "    121979183    141347565 147058830001]\n"
     ]
    }
   ],
   "metadata": {}
  },
  {
   "cell_type": "markdown",
   "source": [
    "#  Input/TF Dataset and Preprocessing Layers\n",
    "\n",
    "- Code copied from https://www.tensorflow.org/tutorials/structured_data/preprocessing_layers\n",
    "- Feature columns from the TF tutorial doesn't work https://www.tensorflow.org/tutorials/structured_data/feature_columns\n",
    "\n",
    "\n",
    "An outline of tasks in this part\n",
    "2.1 Data type processing\n",
    "\n",
    "2.2 Pandas dataframe -> tf.dataset\n",
    "- no censoring: `df_to_dataset()`. Labels with 1 column in one-hot coding form win_price\n",
    "- with censoring: `df_to_dataset_censored()`. Labels with 2 columns,both as bin numbers without one-hot ???\n",
    "       \n",
    "    split X and y. \n",
    "    **y**: different from the non-censored case that only have one target varible(the winning price of the winner), in the censored case we deal with the censoring by the custom loss function, two prices are requied: `minimum_bid_to_win` and `bid_price_eur`. `minimum_bid_to_win` contains the second highest price for the winners and the highest price for the losers. \n",
    "\n",
    "- `labels = dataframe[['minimum_bid_to_win', 'bid_price_eur']].copy()`. We need `bid_price_eur`for our censored loss function $\\Rightarrow$ information in labels are data passing into y_true for the censored loss function. The `minimum_bid_to_win` is the second highest price for the winners, which are used for calculating the binary loss for them (similar to the non-censored case). The bidding prices are there for both the winners and the losers, for calculating the cross-entropy loss. Whether a bid is winning or losing can be tell from the minimum_bid_to_win and bid_price_eur: if bid > min, then it's winning, then both binary and CE losses are applied. \n",
    "\n",
    "\n",
    "`minimum_bid_to_win` contains the optimal price we should bid. It is clear for winning bids, however for lose bid it is quite tricky to think the highest price (`minimum_bid_to_win` returns the bid price of the winner in the same auction) as the optimal price to win. Assume we have a perfect model always returns a correct bidding price. If we have two records in the history bidding logs: one win bid with 5 cent and one lose bid with 2 cent, the `minimum_bid_to_win` returns for the win bid is 3 cent and for the lose bid with 5 cent. Now it comes a new chance with exactly same ad and user feature, the question is: which price should the perfect model return? 5cenr  or 3 cent? My suggestion is in the `minimum_bid_to_win` only contains the second highest price. e.g. 3 cent for both win and lose bids and ignore the 5 cent, the argument is for an aution it should only have one ground-truth for all participants in the same auction.\n",
    "\n",
    "(Addtionnal notes: why the `minimum_bid_to_win` is not the optimal price for lose bids. e.g. after knowing that 5cent is the price of the winner, to win auction the loser need to bid 5.01cent, this changes the overall second winning price from 3cent to 5cent.)\n",
    "\n",
    "\n",
    "   >> `labels = np.digitize(labels, cuts)` not bins but cuts (see coding)\n",
    " \n",
    "  \n",
    "\n",
    "> 2.3 preprocessing layer (functions are in the utils)\n",
    "\n"
   ],
   "metadata": {}
  },
  {
   "cell_type": "code",
   "execution_count": 559,
   "source": [
    "# 2.1 dtype processing: \n",
    "## 1). object -> string\n",
    "## 2). fill NA values '<NA>' before input to pre-processing layers\n",
    "\n",
    "def feature_dtype_preprocess(df):\n",
    "    df = df.copy()\n",
    "    for col in df.columns:\n",
    "        if df.dtypes[col] == 'O':     # df.dtypes[df.columns[1]] -> dtype('O')\n",
    "            df[col]= df[col].astype('string')  # convert object to string\n",
    "            df[col].fillna('', inplace = True) # if string type has NA as: <NA> and doesn't work in TF\n",
    "        \n",
    "    return df  # here also can return df\n",
    "    "
   ],
   "outputs": [],
   "metadata": {}
  },
  {
   "cell_type": "code",
   "execution_count": 560,
   "source": [
    "# convert the data type seperatly\n",
    "train = feature_dtype_preprocess(train)\n",
    "valid = feature_dtype_preprocess(valid)\n",
    "test = feature_dtype_preprocess(test)"
   ],
   "outputs": [],
   "metadata": {}
  },
  {
   "cell_type": "markdown",
   "source": [
    "## FUNCTION/ df_to_tf_censored()"
   ],
   "metadata": {}
  },
  {
   "cell_type": "code",
   "execution_count": 561,
   "source": [
    "# 2.2 Pandas dataframe -> tf.dataset (function) \n",
    "\n",
    "def df_to_tf_censored(dataframe, cuts, shuffle=True, batch_size=32):\n",
    "    dataframe = dataframe.copy()\n",
    "    labels = dataframe[['win_price','bid_price_eur']].copy() # y_true for loss function. Order does matter!\n",
    "    dataframe = dataframe.drop(columns=['win_price','bid_price_eur'])  \n",
    "    \n",
    "    labels = np.digitize(labels, cuts)\n",
    "    \n",
    "    ds = tf.data.Dataset.from_tensor_slices((dict(dataframe), labels)) # ((.)): method takes 1 positional argument \n",
    "    if shuffle:\n",
    "        ds = ds.shuffle(buffer_size=len(dataframe))\n",
    "    ds = ds.batch(batch_size)\n",
    "    ds = ds.prefetch(batch_size) # speed up\n",
    "    return ds"
   ],
   "outputs": [],
   "metadata": {}
  },
  {
   "cell_type": "code",
   "execution_count": 562,
   "source": [
    "# Coding: why cuts not bins in `labels = np.digitize(labels, cuts)`\n",
    "# in https://numpy.org, it name the 2nd argument as bins: np.digitize(labels, bins). \n",
    "# I think it should be cuts, since 5 cuts means 6 bins not 4 bins\n",
    "# x = np.array([[-0.01, 0, 0.2, 6.4,3.0, 9.9, 10, 16]])\n",
    "# cuts = np.array([0.0, 1.0, 2.5, 4.0, 10.0]) \n",
    "# np.digitize(x, cuts) # [0.0, 1.0)"
   ],
   "outputs": [],
   "metadata": {}
  },
  {
   "cell_type": "code",
   "execution_count": 563,
   "source": [
    "# Pandas dataframe -> tf.dataset\n",
    "\n",
    "train_ds = df_to_tf_censored(dataframe = train, cuts = cuts, shuffle = False, batch_size = 4096)\n",
    "valid_ds = df_to_tf_censored(dataframe = valid, cuts = cuts, shuffle = False, batch_size = 4096)\n",
    "test_ds = df_to_tf_censored(dataframe = test, cuts = cuts, shuffle = False, batch_size = 4096)\n",
    "win_ds = df_to_tf_censored(dataframe = test.loc[test.wins==1], cuts = cuts, shuffle = False, batch_size = 4096)"
   ],
   "outputs": [],
   "metadata": {}
  },
  {
   "cell_type": "code",
   "execution_count": 114,
   "source": [
    "test.loc[test.wins==1]"
   ],
   "outputs": [
    {
     "output_type": "execute_result",
     "data": {
      "text/plain": [
       "                       id                         ts  wins   ad_size  ad_type  \\\n",
       "245394   SXpRtZiXtNIvyksm  2021-08-06 18:43:27+00:00     1    320x50        4   \n",
       "654908   M6znqziZSM5GqkYH  2021-08-06 18:43:28+00:00     1   412x837        4   \n",
       "1107175  zFy5ys30KgjY1aDZ  2021-08-06 18:43:29+00:00     1    320x50        1   \n",
       "1234075  eGbfbfNaKvnZzIom  2021-08-06 18:43:32+00:00     1    320x50        1   \n",
       "250872   JV1ict16tDIhJfKa  2021-08-06 18:43:32+00:00     1    320x50        4   \n",
       "...                   ...                        ...   ...       ...      ...   \n",
       "961103   iovllP0kzI4kAtn8  2021-08-06 23:59:46+00:00     1   320x480        4   \n",
       "536235   lSRc8GsSCeXguN7h  2021-08-06 23:59:46+00:00     1    414x50        1   \n",
       "729354   YaP71BMG72zooSZD  2021-08-06 23:59:51+00:00     1    320x50        1   \n",
       "832652   qJK0FllF9ZWuRsiW  2021-08-06 23:59:54+00:00     1  1200x627        2   \n",
       "194949   nhTLiZ8oyoAheN17  2021-08-06 23:59:55+00:00     1  1200x627        2   \n",
       "\n",
       "        country partner                   publisher_app  bid_price  \\\n",
       "245394       ru     adx      com.lihuhu.woodblockmerger      11165   \n",
       "654908       de     adx  com.bigcake.android.mergemania    2300000   \n",
       "1107175      de     adx        com.gma.ball.sort.puzzle     258475   \n",
       "1234075      de     adx     com.addswhilessuffers.binds     250000   \n",
       "250872       ru     adx   puzzle.blockpuzzle.cube.relax      20783   \n",
       "...         ...     ...                             ...        ...   \n",
       "961103       ru     adx          io.hexman.xiconchanger     354133   \n",
       "536235       us     adx                      1299421779    1553959   \n",
       "729354       jp     adx              yudo.work.saitosan      57778   \n",
       "832652       jp     adx         game.puzzle.woodypuzzle    8840000   \n",
       "194949       us     adx                       445338486     260000   \n",
       "\n",
       "         bid_price_eur  ...  exchange_rate  second_highest_bid_price  \\\n",
       "245394            9435  ...       0.845052                     20000   \n",
       "654908         1943591  ...       0.845040                   2300000   \n",
       "1107175         218422  ...       0.845041                    180000   \n",
       "1234075         211259  ...       0.845036                    250000   \n",
       "250872           17563  ...       0.845066                     20000   \n",
       "...                ...  ...            ...                       ...   \n",
       "961103          299257  ...       0.845041                    350000   \n",
       "536235         1313158  ...       0.845040                   1340000   \n",
       "729354           48825  ...       0.845045                     20000   \n",
       "832652         7470153  ...       0.845040                   8830000   \n",
       "194949          219710  ...       0.845038                    250000   \n",
       "\n",
       "         second_highest_bid_price_eur  win_price  adx_loss_reason  \\\n",
       "245394                          16900      20000                1   \n",
       "654908                        1943591    2300000                1   \n",
       "1107175                        152107     180000                1   \n",
       "1234075                        211259     250000                1   \n",
       "250872                          16900      20000                1   \n",
       "...                               ...        ...              ...   \n",
       "961103                         295763     350000                1   \n",
       "536235                        1132353    1340000                1   \n",
       "729354                          16900      20000                1   \n",
       "832652                        7461702    8830000                1   \n",
       "194949                         211259     250000                1   \n",
       "\n",
       "         winning_bid  ad_width  ad_height  ad_area  ad_ratio  \n",
       "245394         20000       320         50    16000  1.856298  \n",
       "654908       2300000       412        837   344844 -0.708801  \n",
       "1107175       180000       320         50    16000  1.856298  \n",
       "1234075       250000       320         50    16000  1.856298  \n",
       "250872         20000       320         50    16000  1.856298  \n",
       "...              ...       ...        ...      ...       ...  \n",
       "961103        350000       320        480   153600 -0.405465  \n",
       "536235       1340000       414         50    20700  2.113843  \n",
       "729354         20000       320         50    16000  1.856298  \n",
       "832652       8830000      1200        627   752400  0.649130  \n",
       "194949        250000      1200        627   752400  0.649130  \n",
       "\n",
       "[11768 rows x 24 columns]"
      ],
      "text/html": [
       "<div>\n",
       "<style scoped>\n",
       "    .dataframe tbody tr th:only-of-type {\n",
       "        vertical-align: middle;\n",
       "    }\n",
       "\n",
       "    .dataframe tbody tr th {\n",
       "        vertical-align: top;\n",
       "    }\n",
       "\n",
       "    .dataframe thead th {\n",
       "        text-align: right;\n",
       "    }\n",
       "</style>\n",
       "<table border=\"1\" class=\"dataframe\">\n",
       "  <thead>\n",
       "    <tr style=\"text-align: right;\">\n",
       "      <th></th>\n",
       "      <th>id</th>\n",
       "      <th>ts</th>\n",
       "      <th>wins</th>\n",
       "      <th>ad_size</th>\n",
       "      <th>ad_type</th>\n",
       "      <th>country</th>\n",
       "      <th>partner</th>\n",
       "      <th>publisher_app</th>\n",
       "      <th>bid_price</th>\n",
       "      <th>bid_price_eur</th>\n",
       "      <th>...</th>\n",
       "      <th>exchange_rate</th>\n",
       "      <th>second_highest_bid_price</th>\n",
       "      <th>second_highest_bid_price_eur</th>\n",
       "      <th>win_price</th>\n",
       "      <th>adx_loss_reason</th>\n",
       "      <th>winning_bid</th>\n",
       "      <th>ad_width</th>\n",
       "      <th>ad_height</th>\n",
       "      <th>ad_area</th>\n",
       "      <th>ad_ratio</th>\n",
       "    </tr>\n",
       "  </thead>\n",
       "  <tbody>\n",
       "    <tr>\n",
       "      <th>245394</th>\n",
       "      <td>SXpRtZiXtNIvyksm</td>\n",
       "      <td>2021-08-06 18:43:27+00:00</td>\n",
       "      <td>1</td>\n",
       "      <td>320x50</td>\n",
       "      <td>4</td>\n",
       "      <td>ru</td>\n",
       "      <td>adx</td>\n",
       "      <td>com.lihuhu.woodblockmerger</td>\n",
       "      <td>11165</td>\n",
       "      <td>9435</td>\n",
       "      <td>...</td>\n",
       "      <td>0.845052</td>\n",
       "      <td>20000</td>\n",
       "      <td>16900</td>\n",
       "      <td>20000</td>\n",
       "      <td>1</td>\n",
       "      <td>20000</td>\n",
       "      <td>320</td>\n",
       "      <td>50</td>\n",
       "      <td>16000</td>\n",
       "      <td>1.856298</td>\n",
       "    </tr>\n",
       "    <tr>\n",
       "      <th>654908</th>\n",
       "      <td>M6znqziZSM5GqkYH</td>\n",
       "      <td>2021-08-06 18:43:28+00:00</td>\n",
       "      <td>1</td>\n",
       "      <td>412x837</td>\n",
       "      <td>4</td>\n",
       "      <td>de</td>\n",
       "      <td>adx</td>\n",
       "      <td>com.bigcake.android.mergemania</td>\n",
       "      <td>2300000</td>\n",
       "      <td>1943591</td>\n",
       "      <td>...</td>\n",
       "      <td>0.845040</td>\n",
       "      <td>2300000</td>\n",
       "      <td>1943591</td>\n",
       "      <td>2300000</td>\n",
       "      <td>1</td>\n",
       "      <td>2300000</td>\n",
       "      <td>412</td>\n",
       "      <td>837</td>\n",
       "      <td>344844</td>\n",
       "      <td>-0.708801</td>\n",
       "    </tr>\n",
       "    <tr>\n",
       "      <th>1107175</th>\n",
       "      <td>zFy5ys30KgjY1aDZ</td>\n",
       "      <td>2021-08-06 18:43:29+00:00</td>\n",
       "      <td>1</td>\n",
       "      <td>320x50</td>\n",
       "      <td>1</td>\n",
       "      <td>de</td>\n",
       "      <td>adx</td>\n",
       "      <td>com.gma.ball.sort.puzzle</td>\n",
       "      <td>258475</td>\n",
       "      <td>218422</td>\n",
       "      <td>...</td>\n",
       "      <td>0.845041</td>\n",
       "      <td>180000</td>\n",
       "      <td>152107</td>\n",
       "      <td>180000</td>\n",
       "      <td>1</td>\n",
       "      <td>180000</td>\n",
       "      <td>320</td>\n",
       "      <td>50</td>\n",
       "      <td>16000</td>\n",
       "      <td>1.856298</td>\n",
       "    </tr>\n",
       "    <tr>\n",
       "      <th>1234075</th>\n",
       "      <td>eGbfbfNaKvnZzIom</td>\n",
       "      <td>2021-08-06 18:43:32+00:00</td>\n",
       "      <td>1</td>\n",
       "      <td>320x50</td>\n",
       "      <td>1</td>\n",
       "      <td>de</td>\n",
       "      <td>adx</td>\n",
       "      <td>com.addswhilessuffers.binds</td>\n",
       "      <td>250000</td>\n",
       "      <td>211259</td>\n",
       "      <td>...</td>\n",
       "      <td>0.845036</td>\n",
       "      <td>250000</td>\n",
       "      <td>211259</td>\n",
       "      <td>250000</td>\n",
       "      <td>1</td>\n",
       "      <td>250000</td>\n",
       "      <td>320</td>\n",
       "      <td>50</td>\n",
       "      <td>16000</td>\n",
       "      <td>1.856298</td>\n",
       "    </tr>\n",
       "    <tr>\n",
       "      <th>250872</th>\n",
       "      <td>JV1ict16tDIhJfKa</td>\n",
       "      <td>2021-08-06 18:43:32+00:00</td>\n",
       "      <td>1</td>\n",
       "      <td>320x50</td>\n",
       "      <td>4</td>\n",
       "      <td>ru</td>\n",
       "      <td>adx</td>\n",
       "      <td>puzzle.blockpuzzle.cube.relax</td>\n",
       "      <td>20783</td>\n",
       "      <td>17563</td>\n",
       "      <td>...</td>\n",
       "      <td>0.845066</td>\n",
       "      <td>20000</td>\n",
       "      <td>16900</td>\n",
       "      <td>20000</td>\n",
       "      <td>1</td>\n",
       "      <td>20000</td>\n",
       "      <td>320</td>\n",
       "      <td>50</td>\n",
       "      <td>16000</td>\n",
       "      <td>1.856298</td>\n",
       "    </tr>\n",
       "    <tr>\n",
       "      <th>...</th>\n",
       "      <td>...</td>\n",
       "      <td>...</td>\n",
       "      <td>...</td>\n",
       "      <td>...</td>\n",
       "      <td>...</td>\n",
       "      <td>...</td>\n",
       "      <td>...</td>\n",
       "      <td>...</td>\n",
       "      <td>...</td>\n",
       "      <td>...</td>\n",
       "      <td>...</td>\n",
       "      <td>...</td>\n",
       "      <td>...</td>\n",
       "      <td>...</td>\n",
       "      <td>...</td>\n",
       "      <td>...</td>\n",
       "      <td>...</td>\n",
       "      <td>...</td>\n",
       "      <td>...</td>\n",
       "      <td>...</td>\n",
       "      <td>...</td>\n",
       "    </tr>\n",
       "    <tr>\n",
       "      <th>961103</th>\n",
       "      <td>iovllP0kzI4kAtn8</td>\n",
       "      <td>2021-08-06 23:59:46+00:00</td>\n",
       "      <td>1</td>\n",
       "      <td>320x480</td>\n",
       "      <td>4</td>\n",
       "      <td>ru</td>\n",
       "      <td>adx</td>\n",
       "      <td>io.hexman.xiconchanger</td>\n",
       "      <td>354133</td>\n",
       "      <td>299257</td>\n",
       "      <td>...</td>\n",
       "      <td>0.845041</td>\n",
       "      <td>350000</td>\n",
       "      <td>295763</td>\n",
       "      <td>350000</td>\n",
       "      <td>1</td>\n",
       "      <td>350000</td>\n",
       "      <td>320</td>\n",
       "      <td>480</td>\n",
       "      <td>153600</td>\n",
       "      <td>-0.405465</td>\n",
       "    </tr>\n",
       "    <tr>\n",
       "      <th>536235</th>\n",
       "      <td>lSRc8GsSCeXguN7h</td>\n",
       "      <td>2021-08-06 23:59:46+00:00</td>\n",
       "      <td>1</td>\n",
       "      <td>414x50</td>\n",
       "      <td>1</td>\n",
       "      <td>us</td>\n",
       "      <td>adx</td>\n",
       "      <td>1299421779</td>\n",
       "      <td>1553959</td>\n",
       "      <td>1313158</td>\n",
       "      <td>...</td>\n",
       "      <td>0.845040</td>\n",
       "      <td>1340000</td>\n",
       "      <td>1132353</td>\n",
       "      <td>1340000</td>\n",
       "      <td>1</td>\n",
       "      <td>1340000</td>\n",
       "      <td>414</td>\n",
       "      <td>50</td>\n",
       "      <td>20700</td>\n",
       "      <td>2.113843</td>\n",
       "    </tr>\n",
       "    <tr>\n",
       "      <th>729354</th>\n",
       "      <td>YaP71BMG72zooSZD</td>\n",
       "      <td>2021-08-06 23:59:51+00:00</td>\n",
       "      <td>1</td>\n",
       "      <td>320x50</td>\n",
       "      <td>1</td>\n",
       "      <td>jp</td>\n",
       "      <td>adx</td>\n",
       "      <td>yudo.work.saitosan</td>\n",
       "      <td>57778</td>\n",
       "      <td>48825</td>\n",
       "      <td>...</td>\n",
       "      <td>0.845045</td>\n",
       "      <td>20000</td>\n",
       "      <td>16900</td>\n",
       "      <td>20000</td>\n",
       "      <td>1</td>\n",
       "      <td>20000</td>\n",
       "      <td>320</td>\n",
       "      <td>50</td>\n",
       "      <td>16000</td>\n",
       "      <td>1.856298</td>\n",
       "    </tr>\n",
       "    <tr>\n",
       "      <th>832652</th>\n",
       "      <td>qJK0FllF9ZWuRsiW</td>\n",
       "      <td>2021-08-06 23:59:54+00:00</td>\n",
       "      <td>1</td>\n",
       "      <td>1200x627</td>\n",
       "      <td>2</td>\n",
       "      <td>jp</td>\n",
       "      <td>adx</td>\n",
       "      <td>game.puzzle.woodypuzzle</td>\n",
       "      <td>8840000</td>\n",
       "      <td>7470153</td>\n",
       "      <td>...</td>\n",
       "      <td>0.845040</td>\n",
       "      <td>8830000</td>\n",
       "      <td>7461702</td>\n",
       "      <td>8830000</td>\n",
       "      <td>1</td>\n",
       "      <td>8830000</td>\n",
       "      <td>1200</td>\n",
       "      <td>627</td>\n",
       "      <td>752400</td>\n",
       "      <td>0.649130</td>\n",
       "    </tr>\n",
       "    <tr>\n",
       "      <th>194949</th>\n",
       "      <td>nhTLiZ8oyoAheN17</td>\n",
       "      <td>2021-08-06 23:59:55+00:00</td>\n",
       "      <td>1</td>\n",
       "      <td>1200x627</td>\n",
       "      <td>2</td>\n",
       "      <td>us</td>\n",
       "      <td>adx</td>\n",
       "      <td>445338486</td>\n",
       "      <td>260000</td>\n",
       "      <td>219710</td>\n",
       "      <td>...</td>\n",
       "      <td>0.845038</td>\n",
       "      <td>250000</td>\n",
       "      <td>211259</td>\n",
       "      <td>250000</td>\n",
       "      <td>1</td>\n",
       "      <td>250000</td>\n",
       "      <td>1200</td>\n",
       "      <td>627</td>\n",
       "      <td>752400</td>\n",
       "      <td>0.649130</td>\n",
       "    </tr>\n",
       "  </tbody>\n",
       "</table>\n",
       "<p>11768 rows × 24 columns</p>\n",
       "</div>"
      ]
     },
     "metadata": {},
     "execution_count": 114
    }
   ],
   "metadata": {
    "scrolled": true
   }
  },
  {
   "cell_type": "code",
   "execution_count": null,
   "source": [
    "# 2.3 Assemble Pre-processing Layers and Encode Data\n",
    "# This is the last step before setting up the NN"
   ],
   "outputs": [],
   "metadata": {}
  },
  {
   "cell_type": "code",
   "execution_count": 564,
   "source": [
    "all_inputs = []       # pre-processing layer\n",
    "encoded_features = [] # encoding input data"
   ],
   "outputs": [],
   "metadata": {}
  },
  {
   "cell_type": "code",
   "execution_count": 565,
   "source": [
    "# Nummeric features\n",
    "for header in tqdm(['ad_width','ad_height','ad_area','ad_ratio']): # 'floor_price_eur'\n",
    "    numeric_col = tf.keras.Input(shape = (1,), name = header)\n",
    "    normalization_layer = get_normalization_layer(header, train_ds)\n",
    "    encoded_numeric_col = normalization_layer(numeric_col)\n",
    "    all_inputs.append(numeric_col)\n",
    "    encoded_features.append(encoded_numeric_col)\n",
    "    \n",
    "    "
   ],
   "outputs": [
    {
     "output_type": "stream",
     "name": "stderr",
     "text": [
      "100%|█████████████████████████████████████████████| 4/4 [00:33<00:00,  8.47s/it]\n"
     ]
    }
   ],
   "metadata": {}
  },
  {
   "cell_type": "code",
   "execution_count": 566,
   "source": [
    "# Categorical features encoding with hashing and embedding\n",
    "# String Categorial features encoded with hashing\n",
    "for header in tqdm(['ad_size','country']): # ts is unique. no publisher_app 'ts'\n",
    "    categorical_col = tf.keras.Input(shape=(1,), name=header, dtype='string')\n",
    "    # encoding_layer = get_category_hashing_layer(header, train_ds, num_bins = 10_000) # IP\n",
    "    encoding_layer = get_hashing_embedding_layer(header, train_ds, dtype='string', max_tokens=None, output_dim=32) # hashing - embedding\n",
    "    encoded_categorical_col = encoding_layer(categorical_col)\n",
    "    all_inputs.append(categorical_col)\n",
    "    encoded_features.append(encoded_categorical_col)"
   ],
   "outputs": [
    {
     "output_type": "stream",
     "name": "stderr",
     "text": [
      "100%|█████████████████████████████████████████████| 2/2 [00:17<00:00,  8.97s/it]\n"
     ]
    }
   ],
   "metadata": {}
  },
  {
   "cell_type": "code",
   "execution_count": 567,
   "source": [
    "# Categorical features encoded as integers\n",
    "for header in tqdm(['ad_type']): \n",
    "    numeric_cat_col = tf.keras.Input(shape=(1,), name=header, dtype='int64')\n",
    "    encoding_layer = get_category_encoding_layer(header, train_ds, dtype='int64', max_tokens=4) #5\n",
    "    encoded_cat_col = encoding_layer(numeric_cat_col)\n",
    "    all_inputs.append(numeric_cat_col)\n",
    "    encoded_features.append(encoded_cat_col)"
   ],
   "outputs": [
    {
     "output_type": "stream",
     "name": "stderr",
     "text": [
      "100%|█████████████████████████████████████████████| 1/1 [00:08<00:00,  8.22s/it]\n"
     ]
    }
   ],
   "metadata": {}
  },
  {
   "cell_type": "markdown",
   "source": [
    "# NN model"
   ],
   "metadata": {}
  },
  {
   "cell_type": "code",
   "execution_count": 568,
   "source": [
    "# 1. Network Setup\n",
    "num_bins = len(cuts) + 1 # how many output neurons are needed\n",
    "print(num_bins)"
   ],
   "outputs": [
    {
     "output_type": "stream",
     "name": "stdout",
     "text": [
      "62\n"
     ]
    }
   ],
   "metadata": {}
  },
  {
   "cell_type": "code",
   "execution_count": 569,
   "source": [
    "from tensorflow.keras.layers import Dense, BatchNormalization, Dropout\n",
    "\n",
    "x = tf.keras.layers.concatenate(encoded_features)\n",
    "\n",
    "num_layer_blocks = 3\n",
    "num_neurons = [200,100,100]\n",
    "\n",
    "for i in range(num_layer_blocks):\n",
    "    x = Dense(num_neurons[i], \n",
    "              kernel_initializer = 'he_uniform', # kernel_regularizer = 'l2',\n",
    "              kernel_regularizer = tf.keras.regularizers.L2(l2=0.01),\n",
    "              activation='LeakyReLU')(x) # LeakyReLU is better than ReLU, 1 layer is enough\n",
    "\n",
    "    x = BatchNormalization()(x)\n",
    "    x = Dropout(0.25)(x) # 0.5\n",
    "\n",
    "output = Dense(num_bins,\n",
    "               kernel_initializer = 'he_uniform',\n",
    "               activation='softmax')(x)\n",
    "\n",
    "model = tf.keras.Model(all_inputs, output)"
   ],
   "outputs": [],
   "metadata": {}
  },
  {
   "cell_type": "code",
   "execution_count": 570,
   "source": [
    "# plot the model\n",
    "\n",
    "##still doesn't work here\n",
    "# file_name = 'model_'+datetime.datetime.now().strftime('%Y-%m%d-%H.%M.%S')+'.png'\n",
    "# tf.keras.utils.plot_model(model, show_shapes=True, expand_nested=False, rankdir=\"LR\", to_file=file_name, dpi=120)\n",
    "tf.keras.utils.plot_model(model, show_shapes=True, expand_nested=False, rankdir=\"LR\", dpi=120)"
   ],
   "outputs": [
    {
     "output_type": "execute_result",
     "data": {
      "text/plain": [
       "<IPython.core.display.Image object>"
      ],
      "image/png": "[encoded data removed]"
     },
     "metadata": {},
     "execution_count": 570
    }
   ],
   "metadata": {}
  },
  {
   "cell_type": "markdown",
   "source": [
    "# The custom Loss function\n",
    "\n",
    "The censored loss function has two y_true = [`minimum_bid_to_win`,`bid_price_eur`]\n",
    "**Idea is similar to Ren et al. 2019's Deep Landscape Forcasting**: \n",
    "> **The final loss is the weighted sum of two parts:**\n",
    "\n",
    "1. **Binary cross entropy (PDF)** from the `minimum_bid_to_win`, if cencored = True, then losing bids are cencored.\n",
    "censoring means losing bids don't know the **2nd highest winning price**\n",
    "\n",
    "2. **Cross entropy from bidding price (cumsum,CDF)**. Losing bids have losses from all bins incl. and lower than the bidding price, and winning bids have losses from bins inclu. and above the bidding price.\n",
    "  - Winning CE: y_true.cumsum * log(y_pred.cumsum)\n",
    "  - Losing CE: (1-y_true.cumsum + y_true) * log(1 - y_pred.cumsum)\n"
   ],
   "metadata": {}
  },
  {
   "cell_type": "markdown",
   "source": [],
   "metadata": {}
  },
  {
   "cell_type": "code",
   "execution_count": null,
   "source": [
    "y_hat=tf.constant([[0.3, 0.4,0.3], [0.1, 0.8,0.1],[0.3,0.6,0.1]])\n",
    "y = tf.constant([[0.0, 0.0, 1.0], [0.0, 1.0,0.0],[0.0,1.0,0.0]])\n",
    "print(y)\n",
    "\n",
    "y_cum= tf.cumsum(y,axis =1)\n",
    "y_hat_cum = tf.cumsum(y_hat,axis =1)\n",
    "print(y_hat_cum)\n",
    "\n",
    "def test_ce(p,t):\n",
    "    \n",
    "    y_hat_cum = tf.cumsum(p,axis =1)\n",
    "    y_cum= tf.cumsum(t,axis =1)\n",
    "    \n",
    "    ce = -tf.reduce_sum(y_cum*tf.math.log(y_cum))\n",
    "    return ce\n",
    "\n",
    "        "
   ],
   "outputs": [],
   "metadata": {}
  },
  {
   "cell_type": "code",
   "execution_count": null,
   "source": [
    "a = tf.constant([0,0.8,0.2])\n",
    "aa= tf.constant([0.0,1.0,0.0])\n",
    "\n",
    "#tf.reduce_sum(a * tf.math.log(aa))\n",
    "#test_ce(y_hat,y)\n",
    "a_cum= tf.math.cumsum(a, axis=-1)\n",
    "aa_cum=tf.math.cumsum(aa, axis = -1)\n",
    "#a_cum=tf.clip_by_value(a_cum, 1e-7, 1-1e-7)\n",
    "aa_cum=tf.clip_by_value(aa_cum, 1e-7, 1-1e-7)\n",
    "\n",
    "-tf.reduce_sum(tf.math.log(aa_cum) * a_cum, axis=-1)"
   ],
   "outputs": [],
   "metadata": {}
  },
  {
   "cell_type": "code",
   "execution_count": null,
   "source": [
    "def my_censored_binary_loss(ce_loss_weight = 0.25, censored = True):\n",
    "\n",
    "    def my_binary_loss(y_true, y_pred):\n",
    "        market_price = y_true[:, 0]\n",
    "        bid_price = y_true[:, 1]\n",
    "        winning = tf.cast(bid_price > market_price, tf.float32) # tf calculation requires float * float (not float * int) \n",
    "\n",
    "        num_bins = tf.cast(y_pred.shape[-1], tf.int32)\n",
    "        market_one_hot = tf.one_hot(market_price, depth=num_bins)\n",
    "        bid_one_hot = tf.one_hot(bid_price, depth=num_bins)\n",
    "        \n",
    "        clipped_y_pred = tf.clip_by_value(y_pred, 1e-7, 1 - 1e-7) # why 1e-7? 1e-10 is too small for logarithmus -> nan (also in Ren et al.)\n",
    "        cumsum_y_pred  = tf.clip_by_value(tf.math.cumsum(y_pred, axis=-1), 1e-7, 1 - 1e-7)\n",
    "\n",
    "        if censored:\n",
    "            # Losing bids are censored: don't know the true market price -> don't count their NLL loss\n",
    "            binary_loss =  -tf.reduce_sum(tf.math.log(clipped_y_pred) * market_one_hot, \n",
    "                                          axis=-1) * winning\n",
    "            binary_loss += -tf.reduce_sum(tf.math.log(1 - clipped_y_pred) * (1 - market_one_hot), \n",
    "                                          axis=-1) * winning \n",
    "            binary_loss = tf.reduce_sum(binary_loss)\n",
    "        else:\n",
    "            binary_loss =  -tf.reduce_sum(tf.math.log(clipped_y_pred) * market_one_hot)\n",
    "            binary_loss += -tf.reduce_sum(tf.math.log(1 - clipped_y_pred) * (1 - market_one_hot))\n",
    "        \n",
    "        winning_CE = tf.reduce_sum(\n",
    "            tf.math.cumsum(bid_one_hot, axis=-1) * -tf.math.log(cumsum_y_pred), # maybe using market_one_hot is a better idea\n",
    "            axis = -1\n",
    "        )\n",
    "        losing_CE = tf.reduce_sum(\n",
    "            (1 - tf.math.cumsum(bid_one_hot, axis=-1) + bid_one_hot) * -tf.math.log(1 - cumsum_y_pred)\\\n",
    "            + tf.math.cumsum(market_one_hot, axis=-1) * -tf.math.log(cumsum_y_pred), # (1 - bid.cumsum + bid) * (1 - pred)\n",
    "            axis = -1\n",
    "        )\n",
    "        cross_entropy = tf.reduce_sum(\n",
    "            winning * winning_CE + (1-winning) * losing_CE\n",
    "        )\n",
    "        \n",
    "        combined_loss = (1.0-ce_loss_weight) * binary_loss + ce_loss_weight * cross_entropy\n",
    "        return combined_loss\n",
    "    return my_binary_loss"
   ],
   "outputs": [],
   "metadata": {}
  },
  {
   "cell_type": "code",
   "execution_count": null,
   "source": [
    "def m_censored_binary_loss(ce_loss_weight = 0.25, censored = True):\n",
    "\n",
    "    def my_binary_loss(y_true, y_pred):\n",
    "        market_price = y_true[:, 0]\n",
    "        bid_price = y_true[:, 1]\n",
    "        winning = tf.cast(bid_price > market_price, tf.float32) # tf calculation requires float * float (not float * int) \n",
    "\n",
    "        num_bins = tf.cast(y_pred.shape[-1], tf.int32)\n",
    "        market_one_hot = tf.one_hot(market_price, depth=num_bins)\n",
    "        bid_one_hot = tf.one_hot(bid_price, depth=num_bins)\n",
    "        \n",
    "        clipped_y_pred = tf.clip_by_value(y_pred, 1e-7, 1 - 1e-7) # why 1e-7? 1e-10 is too small for logarithmus -> nan (also in Ren et al.)\n",
    "        cumsum_y_pred  = tf.clip_by_value(tf.math.cumsum(y_pred, axis=-1), 1e-7, 1 - 1e-7)\n",
    "\n",
    "        if censored:\n",
    "            # Losing bids are censored: don't know the true market price -> don't count their NLL loss\n",
    "            binary_loss =  -tf.reduce_sum(tf.math.log(clipped_y_pred) * market_one_hot, \n",
    "                                          axis=-1) * winning\n",
    "            binary_loss += -tf.reduce_sum(tf.math.log(1 - clipped_y_pred) * (1 - market_one_hot), \n",
    "                                          axis=-1) * winning \n",
    "            binary_loss = tf.reduce_sum(binary_loss)\n",
    "        else:\n",
    "            binary_loss =  -tf.reduce_sum(tf.math.log(clipped_y_pred) * market_one_hot)\n",
    "            binary_loss += -tf.reduce_sum(tf.math.log(1 - clipped_y_pred) * (1 - market_one_hot))\n",
    "        \n",
    "        winning_CE = tf.reduce_sum(\n",
    "            tf.math.cumsum(bid_one_hot, axis=-1) * -tf.math.log(cumsum_y_pred), # maybe using market_one_hot is a better idea\n",
    "            axis = -1\n",
    "        )\n",
    "        losing_CE = tf.reduce_sum(\n",
    "            (1 - tf.math.cumsum(bid_one_hot, axis=-1) + bid_one_hot) * -tf.math.log(1 - cumsum_y_pred), # (1 - bid.cumsum + bid) * (1 - pred)\n",
    "            axis = -1\n",
    "        )\n",
    "        cross_entropy = tf.reduce_sum(\n",
    "            winning * winning_CE + (1-winning) * losing_CE\n",
    "        )\n",
    "        \n",
    "        combined_loss = (1.0-ce_loss_weight) * binary_loss + ce_loss_weight * cross_entropy\n",
    "        return combined_loss\n",
    "    return my_binary_loss"
   ],
   "outputs": [],
   "metadata": {}
  },
  {
   "cell_type": "code",
   "execution_count": null,
   "source": [
    "def _censored_binary_loss(ce_loss_weight = 0.25, censored = True):\n",
    "\n",
    "    def my_binary_loss(y_true, y_pred):\n",
    "        market_price = y_true[:, 0]\n",
    "        bid_price = y_true[:, 1]\n",
    "        winning = tf.cast(bid_price > market_price, tf.float32) # tf calculation requires float * float (not float * int) \n",
    "\n",
    "        num_bins = tf.cast(y_pred.shape[-1], tf.int32)\n",
    "        market_one_hot = tf.one_hot(market_price, depth=num_bins)\n",
    "        bid_one_hot = tf.one_hot(bid_price, depth=num_bins)\n",
    "        \n",
    "        clipped_y_pred = tf.clip_by_value(y_pred, 1e-7, 1 - 1e-7) # why 1e-7? 1e-10 is too small for logarithmus -> nan (also in Ren et al.)\n",
    "        cumsum_y_pred  = tf.clip_by_value(tf.math.cumsum(y_pred, axis=-1), 1e-7, 1 - 1e-7)\n",
    "\n",
    "        if censored:\n",
    "            # Losing bids are censored: don't know the true market price -> don't count their NLL loss\n",
    "            binary_loss =  -tf.reduce_sum(tf.math.log(clipped_y_pred) * market_one_hot, \n",
    "                                          axis=-1) * winning\n",
    "            binary_loss += -tf.reduce_sum(tf.math.log(1 - clipped_y_pred) * (1 - market_one_hot), \n",
    "                                          axis=-1) * winning \n",
    "            binary_loss = tf.reduce_sum(binary_loss)\n",
    "        else:\n",
    "            binary_loss =  -tf.reduce_sum(tf.math.log(clipped_y_pred) * market_one_hot)\n",
    "            binary_loss += -tf.reduce_sum(tf.math.log(1 - clipped_y_pred) * (1 - market_one_hot))\n",
    "        \n",
    "        winning_CE = tf.reduce_sum(\n",
    "            bid_one_hot * -tf.math.log(cumsum_y_pred), # maybe using market_one_hot is a better idea\n",
    "            axis = -1\n",
    "        )\n",
    "        losing_CE = tf.reduce_sum(\n",
    "            bid_one_hot    * -tf.math.log(1 - cumsum_y_pred) +\\\n",
    "            market_one_hot * -tf.math.log(cumsum_y_pred), # bid * log (1 - pred) + market * log (pred)\n",
    "            axis = -1\n",
    "        )\n",
    "        cross_entropy = tf.reduce_sum(\n",
    "            winning * winning_CE + (1-winning) * losing_CE\n",
    "        )\n",
    "        \n",
    "        combined_loss = (1.0-ce_loss_weight) * binary_loss + ce_loss_weight * cross_entropy\n",
    "        return combined_loss\n",
    "    return my_binary_loss"
   ],
   "outputs": [],
   "metadata": {}
  },
  {
   "cell_type": "code",
   "execution_count": 571,
   "source": [
    "# test\n",
    "def my_censored_binary_loss(ce_loss_weight = 0.25, censored = True):\n",
    "\n",
    "    def my_binary_loss(y_true, y_pred):\n",
    "        market_price = y_true[:, 0]\n",
    "        bid_price = y_true[:, 1]\n",
    "        winning = tf.cast(bid_price > market_price, tf.float32) # tf calculation requires float * float (not float * int) \n",
    "\n",
    "        num_bins = tf.cast(y_pred.shape[-1], tf.int32)\n",
    "        market_one_hot = tf.one_hot(market_price, depth=num_bins)\n",
    "        bid_one_hot = tf.one_hot(bid_price, depth=num_bins)\n",
    "        \n",
    "        clipped_y_pred = tf.clip_by_value(y_pred, 1e-7, 1 - 1e-7) # why 1e-7? 1e-10 is too small for logarithmus -> nan (also in Ren et al.)\n",
    "        cumsum_y_pred  = tf.clip_by_value(tf.math.cumsum(y_pred, axis=-1), 1e-7, 1 - 1e-7)\n",
    "\n",
    "        if censored:\n",
    "            # Losing bids are censored: don't know the true market price -> don't count their NLL loss\n",
    "            binary_loss =  -tf.reduce_mean(tf.math.log(clipped_y_pred) * market_one_hot, \n",
    "                                          axis=-1) * winning\n",
    "            binary_loss += -tf.reduce_mean(tf.math.log(1 - clipped_y_pred) * (1 - market_one_hot), \n",
    "                                          axis=-1) * winning \n",
    "            binary_loss = tf.reduce_mean(binary_loss)\n",
    "        else:\n",
    "            binary_loss =  -tf.reduce_mean(tf.math.log(clipped_y_pred) * market_one_hot)\n",
    "            binary_loss += -tf.reduce_mean(tf.math.log(1 - clipped_y_pred) * (1 - market_one_hot))\n",
    "        \n",
    "        winning_CE = tf.reduce_mean(\n",
    "            tf.math.cumsum(bid_one_hot, axis=-1) * -tf.math.log(cumsum_y_pred), # maybe using market_one_hot is a better idea\n",
    "            axis = -1\n",
    "        )\n",
    "        losing_CE = tf.reduce_mean(\n",
    "            (1 - tf.math.cumsum(bid_one_hot, axis=-1) + bid_one_hot) * -tf.math.log(1 - cumsum_y_pred)\\\n",
    "            + tf.math.cumsum(market_one_hot, axis=-1) * -tf.math.log(cumsum_y_pred), # (1 - bid.cumsum + bid) * (1 - pred)\n",
    "            axis = -1\n",
    "        )\n",
    "        cross_entropy = tf.reduce_mean(\n",
    "            winning * winning_CE + (1-winning) * losing_CE\n",
    "        )\n",
    "        \n",
    "        combined_loss = (1.0-ce_loss_weight) * binary_loss + ce_loss_weight * cross_entropy\n",
    "        return combined_loss\n",
    "    return my_binary_loss"
   ],
   "outputs": [],
   "metadata": {}
  },
  {
   "cell_type": "code",
   "execution_count": 87,
   "source": [],
   "outputs": [],
   "metadata": {}
  },
  {
   "cell_type": "markdown",
   "source": [
    "---"
   ],
   "metadata": {}
  },
  {
   "cell_type": "markdown",
   "source": [
    "# Evaluation matrics: CRPS"
   ],
   "metadata": {}
  },
  {
   "cell_type": "code",
   "execution_count": 572,
   "source": [
    "# From Li/ dcdr model\n",
    "def crps_loss(y_true, y_pred):\n",
    "        loss = 0\n",
    "        clipped_y_pred = tf.clip_by_value(y_pred, 1e-7, 1 - 1e-7)    \n",
    "        loss += tf.reduce_mean(tf.square(1-clipped_y_pred) * y_true)\n",
    "        loss += tf.reduce_mean(tf.square(clipped_y_pred) * (1 - y_true))\n",
    "        return loss"
   ],
   "outputs": [],
   "metadata": {}
  },
  {
   "cell_type": "code",
   "execution_count": 573,
   "source": [
    "def my_crps_loss(y_true, y_pred):\n",
    "    market_price = tf.cast(y_true[:, 0], tf.int32)\n",
    "    num_bins = tf.cast(y_pred.shape[-1], tf.int32)\n",
    "    market_one_hot = tf.one_hot(market_price, depth=num_bins)\n",
    "    \n",
    "    return crps_loss(market_one_hot, y_pred)"
   ],
   "outputs": [],
   "metadata": {}
  },
  {
   "cell_type": "markdown",
   "source": [
    "# Evaluation matrics: ANLP\n",
    "\n",
    "Different papers define ANLP differently. Here I use Ren et al.'s version.\n",
    "\n",
    "Ren et al. use ANLP to access the likelihood of the co-occurence of the test bid requests with the corresponding matket prices $ANLP= -\\frac{1}{|D_{test}|}\\sum\\limits_{(x^i, z^i)\\in D_{test}}log p_z(z^i|x^i)$, $p_z(z^i|x^i)$ is the bin probability. ANLP only used in the pdf of the win bids\n",
    "\n",
    "Ghosh et al. use ANLP to learn the distribution of the winning oricem rather than the point estimate.(the author use ANLP in both win and losing bids)\n",
    "\n",
    "Wang et al. use ANLP to measure the forcasting error.(used in each subgroup)"
   ],
   "metadata": {}
  },
  {
   "cell_type": "code",
   "execution_count": null,
   "source": [],
   "outputs": [],
   "metadata": {}
  },
  {
   "cell_type": "code",
   "execution_count": 574,
   "source": [
    "# anlp is categorical cross entropy over winning bids\n",
    "def anlp(y_true, y_pred):\n",
    "    loss=0\n",
    "    \n",
    "    market_price = tf.cast(y_true[:, 0],tf.int32)\n",
    "    bid_price = tf.cast(y_true[:, 1],tf.int32)\n",
    "    winning = tf.cast(bid_price > market_price, tf.float32)\n",
    "    \n",
    "    num_bins = tf.cast(y_pred.shape[-1], tf.int32)\n",
    "    market_one_hot = tf.one_hot(market_price, depth=num_bins)\n",
    "    \n",
    "        \n",
    "    clipped_y_pred = tf.clip_by_value(y_pred, 1e-7, 1 - 1e-7)\n",
    "    loss += -tf.reduce_sum(tf.math.log(clipped_y_pred) * market_one_hot,axis=-1)\n",
    "    loss = tf.reduce_sum(loss * winning)\n",
    "    loss /= tf.reduce_sum(winning)\n",
    "  \n",
    "    return loss"
   ],
   "outputs": [],
   "metadata": {}
  },
  {
   "cell_type": "code",
   "execution_count": 507,
   "source": [
    "yt = tf.constant([\n",
    "    [1, 2],\n",
    "    [2, 0]\n",
    "], tf.int32)\n",
    "\n",
    "yp = tf.constant([\n",
    "    [0, .5, .5],\n",
    "    [.5, .5, 0]\n",
    "])\n",
    "\n",
    "print(np.log(.5))\n",
    "anlp(yt, yp).numpy()"
   ],
   "outputs": [
    {
     "output_type": "stream",
     "name": "stdout",
     "text": [
      "-0.6931471805599453\n"
     ]
    },
    {
     "output_type": "execute_result",
     "data": {
      "text/plain": [
       "0.6931472"
      ]
     },
     "metadata": {},
     "execution_count": 507
    }
   ],
   "metadata": {}
  },
  {
   "cell_type": "code",
   "execution_count": 497,
   "source": [
    "y = tf.constant([0, 1, 1], tf.float32)\n",
    "x = tf.constant([2, .5, 1], tf.float32)\n",
    "z = tf.transpose(tf.tile([x], tf.constant([2, 1])))\n",
    "print(\n",
    "    tf.reduce_mean(y).numpy(),\n",
    "    tf.reduce_mean(x*y).numpy(),\n",
    "    z,\n",
    "    y,\n",
    "    tf.reduce_mean(z, axis=-1) * y  \n",
    ")\n"
   ],
   "outputs": [
    {
     "output_type": "stream",
     "name": "stdout",
     "text": [
      "0.6666667 0.5 tf.Tensor(\n",
      "[[2.  2. ]\n",
      " [0.5 0.5]\n",
      " [1.  1. ]], shape=(3, 2), dtype=float32) tf.Tensor([0. 1. 1.], shape=(3,), dtype=float32) tf.Tensor([0.  0.5 1. ], shape=(3,), dtype=float32)\n"
     ]
    }
   ],
   "metadata": {}
  },
  {
   "cell_type": "markdown",
   "source": [
    "# Evaluation matrics: KL divergence(relative entropy)\n",
    "https://www.tensorflow.org/api_docs/python/tf/keras/losses/KLDivergence\n",
    "\n",
    "The Kullback-Leibler Divergence score, or KL divergence score, quantifies how much one probability distribution differs from another probability distribution."
   ],
   "metadata": {}
  },
  {
   "cell_type": "code",
   "execution_count": 575,
   "source": [
    "# not sure correct?\n",
    "def kl(y_true, y_pred):\n",
    "    \n",
    "    market_price = tf.cast(y_true[:, 0], tf.int32)\n",
    "    num_bins = tf.cast(y_pred.shape[-1], tf.int32)\n",
    "    market_one_hot = tf.one_hot(market_price, depth=num_bins)\n",
    "    \n",
    "    cumsum_y_pred  = tf.clip_by_value(tf.math.cumsum(y_pred, axis=-1), 1e-7, 1 - 1e-7)\n",
    "    cumsum_y_true  = tf.clip_by_value(tf.math.cumsum(market_one_hot, axis=-1), 1e-7, 1 - 1e-7)\n",
    "    \n",
    "    \n",
    "    kl = tf.keras.losses.KLDivergence()\n",
    "    score = kl(cumsum_y_true, cumsum_y_pred)\n",
    "    return score"
   ],
   "outputs": [],
   "metadata": {}
  },
  {
   "cell_type": "markdown",
   "source": [
    "# Trainning and Prediction"
   ],
   "metadata": {}
  },
  {
   "cell_type": "code",
   "execution_count": 576,
   "source": [
    "from tensorflow.keras.metrics import categorical_accuracy\n",
    "\n",
    "\n",
    "logdir = 'logs/scalars' + datetime.datetime.now().strftime('%Y%m%d-%H%M%S')\n",
    "tensorboard_callback = tf.keras.callbacks.TensorBoard(log_dir = logdir)\n",
    "\n",
    "\n",
    "#top_5_accuracy = tf.keras.metrics.TopKCategoricalAccuracy(k=5) # treated as correct prediction: got one of the highest prob.\n"
   ],
   "outputs": [
    {
     "output_type": "stream",
     "name": "stderr",
     "text": [
      "2021-08-16 08:47:20.473143: I tensorflow/core/profiler/lib/profiler_session.cc:126] Profiler session initializing.\n",
      "2021-08-16 08:47:20.473206: I tensorflow/core/profiler/lib/profiler_session.cc:141] Profiler session started.\n",
      "2021-08-16 08:47:20.473442: I tensorflow/core/profiler/lib/profiler_session.cc:159] Profiler session tear down.\n"
     ]
    }
   ],
   "metadata": {}
  },
  {
   "cell_type": "code",
   "execution_count": 354,
   "source": [
    "# IF 1. y_true has one column\n",
    "#model.compile(optimizer = tf.optimizers.Adam(learning_rate=1e-4, beta_2=0.99, clipvalue=5.0), # learning_rate=1e-4, beta_2=0.99, clipvalue=5.0 /  learning_rate=1e-4 too slow\n",
    "#              loss = 'BinaryCrossentropy', # binary_loss, crps_loss,cdf_loss,my_loss\n",
    "#              metrics =  [binary_loss, crps_loss, 'BinaryCrossentropy', 'CategoricalCrossentropy', \n",
    "#                          top_5_accuracy, categorical_accuracy])"
   ],
   "outputs": [],
   "metadata": {}
  },
  {
   "cell_type": "code",
   "execution_count": 706,
   "source": [
    "# IF 2. y_true has two columns\n",
    "model.compile(optimizer = tf.optimizers.Adam(learning_rate=1e-4, beta_2=0.99, clipvalue=5.0), # learning_rate=1e-4, beta_2=0.99, clipvalue=5.0 /  learning_rate=1e-4 too slow\n",
    "              loss = my_censored_binary_loss(ce_loss_weight = 0.75, censored = False),\n",
    "              metrics=[my_crps_loss,anlp,kl]\n",
    "             ) # binary_loss, crps_loss,cdf_loss,my_loss"
   ],
   "outputs": [],
   "metadata": {}
  },
  {
   "cell_type": "code",
   "execution_count": 707,
   "source": [
    "callback = tf.keras.callbacks.EarlyStopping(monitor='val_loss', patience=5)\n",
    "\n",
    "training_history = model.fit(train_ds, epochs=15, \n",
    "                    callbacks=[callback, tensorboard_callback], \n",
    "                    validation_data=valid_ds)"
   ],
   "outputs": [
    {
     "output_type": "stream",
     "name": "stdout",
     "text": [
      "Epoch 1/15\n"
     ]
    },
    {
     "output_type": "stream",
     "name": "stderr",
     "text": [
      "/home/xin/.local/lib/python3.8/site-packages/tensorflow/python/keras/engine/functional.py:588: UserWarning: Input dict contained keys ['id', 'ts', 'wins', 'partner', 'publisher_app', 'bid_price', 'floor_price', 'floor_price_eur', 'clearing_price', 'clearing_price_eur', 'exchange_rate', 'second_highest_bid_price', 'second_highest_bid_price_eur', 'adx_loss_reason', 'winning_bid'] which did not match any model input. They will be ignored by the model.\n",
      "  warnings.warn(\n"
     ]
    },
    {
     "output_type": "stream",
     "name": "stdout",
     "text": [
      "  1/198 [..............................] - ETA: 21:24 - loss: 0.0764 - my_crps_loss: 0.0158 - anlp: 3.6382 - kl: 2.2627ERROR:tensorflow:Failed to start profiler: Another profiler is running.\n",
      "198/198 [==============================] - 21s 75ms/step - loss: 0.0688 - my_crps_loss: 0.0163 - anlp: 3.9142 - kl: 1.8554 - val_loss: 0.0664 - val_my_crps_loss: 0.0159 - val_anlp: 3.8032 - val_kl: 2.1895\n",
      "Epoch 2/15\n",
      "198/198 [==============================] - 14s 70ms/step - loss: 0.0680 - my_crps_loss: 0.0163 - anlp: 3.9305 - kl: 1.7758 - val_loss: 0.0658 - val_my_crps_loss: 0.0159 - val_anlp: 3.8151 - val_kl: 2.1086\n",
      "Epoch 3/15\n",
      "198/198 [==============================] - 14s 72ms/step - loss: 0.0677 - my_crps_loss: 0.0162 - anlp: 3.9329 - kl: 1.7528 - val_loss: 0.0660 - val_my_crps_loss: 0.0159 - val_anlp: 3.7980 - val_kl: 2.2054\n",
      "Epoch 4/15\n",
      "198/198 [==============================] - 14s 72ms/step - loss: 0.0675 - my_crps_loss: 0.0162 - anlp: 3.9317 - kl: 1.7387 - val_loss: 0.0655 - val_my_crps_loss: 0.0159 - val_anlp: 3.8072 - val_kl: 2.1169\n",
      "Epoch 5/15\n",
      "198/198 [==============================] - 14s 73ms/step - loss: 0.0674 - my_crps_loss: 0.0162 - anlp: 3.9321 - kl: 1.7274 - val_loss: 0.0656 - val_my_crps_loss: 0.0159 - val_anlp: 3.8168 - val_kl: 2.1609\n",
      "Epoch 6/15\n",
      "198/198 [==============================] - 14s 73ms/step - loss: 0.0673 - my_crps_loss: 0.0162 - anlp: 3.9257 - kl: 1.7227 - val_loss: 0.0655 - val_my_crps_loss: 0.0159 - val_anlp: 3.8119 - val_kl: 2.1581\n",
      "Epoch 7/15\n",
      "198/198 [==============================] - 15s 75ms/step - loss: 0.0672 - my_crps_loss: 0.0162 - anlp: 3.9335 - kl: 1.7156 - val_loss: 0.0651 - val_my_crps_loss: 0.0159 - val_anlp: 3.8230 - val_kl: 2.0326\n",
      "Epoch 8/15\n",
      "198/198 [==============================] - 15s 74ms/step - loss: 0.0671 - my_crps_loss: 0.0162 - anlp: 3.9283 - kl: 1.7135 - val_loss: 0.0653 - val_my_crps_loss: 0.0159 - val_anlp: 3.8201 - val_kl: 2.0813\n",
      "Epoch 9/15\n",
      "198/198 [==============================] - 14s 72ms/step - loss: 0.0670 - my_crps_loss: 0.0162 - anlp: 3.9300 - kl: 1.7103 - val_loss: 0.0649 - val_my_crps_loss: 0.0160 - val_anlp: 3.8302 - val_kl: 1.9982\n",
      "Epoch 10/15\n",
      "198/198 [==============================] - 14s 73ms/step - loss: 0.0670 - my_crps_loss: 0.0162 - anlp: 3.9307 - kl: 1.7097 - val_loss: 0.0650 - val_my_crps_loss: 0.0160 - val_anlp: 3.8251 - val_kl: 2.0416\n",
      "Epoch 11/15\n",
      "198/198 [==============================] - 14s 72ms/step - loss: 0.0669 - my_crps_loss: 0.0162 - anlp: 3.9321 - kl: 1.7072 - val_loss: 0.0650 - val_my_crps_loss: 0.0159 - val_anlp: 3.8231 - val_kl: 2.0752\n",
      "Epoch 12/15\n",
      "198/198 [==============================] - 14s 73ms/step - loss: 0.0669 - my_crps_loss: 0.0162 - anlp: 3.9233 - kl: 1.7017 - val_loss: 0.0650 - val_my_crps_loss: 0.0159 - val_anlp: 3.8250 - val_kl: 2.0788\n",
      "Epoch 13/15\n",
      "198/198 [==============================] - 15s 74ms/step - loss: 0.0668 - my_crps_loss: 0.0162 - anlp: 3.9302 - kl: 1.7012 - val_loss: 0.0649 - val_my_crps_loss: 0.0160 - val_anlp: 3.8316 - val_kl: 2.0380\n",
      "Epoch 14/15\n",
      "198/198 [==============================] - 15s 75ms/step - loss: 0.0668 - my_crps_loss: 0.0162 - anlp: 3.9246 - kl: 1.7025 - val_loss: 0.0650 - val_my_crps_loss: 0.0160 - val_anlp: 3.8303 - val_kl: 2.0641\n"
     ]
    }
   ],
   "metadata": {
    "scrolled": true
   }
  },
  {
   "cell_type": "code",
   "execution_count": 580,
   "source": [
    "# check the loss and evaluation metrics in the train & valid\n",
    "hist = pd.DataFrame(training_history.history)\n",
    "hist['epoch'] = training_history.epoch\n",
    "hist.tail()"
   ],
   "outputs": [
    {
     "output_type": "execute_result",
     "data": {
      "text/plain": [
       "        loss  my_crps_loss      anlp        kl  val_loss  val_my_crps_loss  \\\n",
       "10  0.235581      0.015923  3.846291  3.364402  0.190673          0.015473   \n",
       "11  0.157207      0.015789  3.762569  3.338105  0.130263          0.015449   \n",
       "12  0.112006      0.015691  3.717008  3.279763  0.096404          0.015437   \n",
       "13  0.089383      0.015665  3.698902  3.213596  0.081462          0.015416   \n",
       "14  0.079943      0.015657  3.690139  3.160862  0.076218          0.015416   \n",
       "\n",
       "    val_anlp    val_kl  epoch  \n",
       "10  3.600942  4.453892     10  \n",
       "11  3.592553  4.158198     11  \n",
       "12  3.603502  3.639476     12  \n",
       "13  3.620992  3.610588     13  \n",
       "14  3.624513  3.526955     14  "
      ],
      "text/html": [
       "<div>\n",
       "<style scoped>\n",
       "    .dataframe tbody tr th:only-of-type {\n",
       "        vertical-align: middle;\n",
       "    }\n",
       "\n",
       "    .dataframe tbody tr th {\n",
       "        vertical-align: top;\n",
       "    }\n",
       "\n",
       "    .dataframe thead th {\n",
       "        text-align: right;\n",
       "    }\n",
       "</style>\n",
       "<table border=\"1\" class=\"dataframe\">\n",
       "  <thead>\n",
       "    <tr style=\"text-align: right;\">\n",
       "      <th></th>\n",
       "      <th>loss</th>\n",
       "      <th>my_crps_loss</th>\n",
       "      <th>anlp</th>\n",
       "      <th>kl</th>\n",
       "      <th>val_loss</th>\n",
       "      <th>val_my_crps_loss</th>\n",
       "      <th>val_anlp</th>\n",
       "      <th>val_kl</th>\n",
       "      <th>epoch</th>\n",
       "    </tr>\n",
       "  </thead>\n",
       "  <tbody>\n",
       "    <tr>\n",
       "      <th>10</th>\n",
       "      <td>0.235581</td>\n",
       "      <td>0.015923</td>\n",
       "      <td>3.846291</td>\n",
       "      <td>3.364402</td>\n",
       "      <td>0.190673</td>\n",
       "      <td>0.015473</td>\n",
       "      <td>3.600942</td>\n",
       "      <td>4.453892</td>\n",
       "      <td>10</td>\n",
       "    </tr>\n",
       "    <tr>\n",
       "      <th>11</th>\n",
       "      <td>0.157207</td>\n",
       "      <td>0.015789</td>\n",
       "      <td>3.762569</td>\n",
       "      <td>3.338105</td>\n",
       "      <td>0.130263</td>\n",
       "      <td>0.015449</td>\n",
       "      <td>3.592553</td>\n",
       "      <td>4.158198</td>\n",
       "      <td>11</td>\n",
       "    </tr>\n",
       "    <tr>\n",
       "      <th>12</th>\n",
       "      <td>0.112006</td>\n",
       "      <td>0.015691</td>\n",
       "      <td>3.717008</td>\n",
       "      <td>3.279763</td>\n",
       "      <td>0.096404</td>\n",
       "      <td>0.015437</td>\n",
       "      <td>3.603502</td>\n",
       "      <td>3.639476</td>\n",
       "      <td>12</td>\n",
       "    </tr>\n",
       "    <tr>\n",
       "      <th>13</th>\n",
       "      <td>0.089383</td>\n",
       "      <td>0.015665</td>\n",
       "      <td>3.698902</td>\n",
       "      <td>3.213596</td>\n",
       "      <td>0.081462</td>\n",
       "      <td>0.015416</td>\n",
       "      <td>3.620992</td>\n",
       "      <td>3.610588</td>\n",
       "      <td>13</td>\n",
       "    </tr>\n",
       "    <tr>\n",
       "      <th>14</th>\n",
       "      <td>0.079943</td>\n",
       "      <td>0.015657</td>\n",
       "      <td>3.690139</td>\n",
       "      <td>3.160862</td>\n",
       "      <td>0.076218</td>\n",
       "      <td>0.015416</td>\n",
       "      <td>3.624513</td>\n",
       "      <td>3.526955</td>\n",
       "      <td>14</td>\n",
       "    </tr>\n",
       "  </tbody>\n",
       "</table>\n",
       "</div>"
      ]
     },
     "metadata": {},
     "execution_count": 580
    }
   ],
   "metadata": {}
  },
  {
   "cell_type": "code",
   "execution_count": 581,
   "source": [
    "model.evaluate(test_ds)"
   ],
   "outputs": [
    {
     "output_type": "stream",
     "name": "stdout",
     "text": [
      "66/66 [==============================] - 3s 46ms/step - loss: 0.0776 - my_crps_loss: 0.0154 - anlp: 3.6490 - kl: 3.8007\n"
     ]
    },
    {
     "output_type": "execute_result",
     "data": {
      "text/plain": [
       "[0.07756388932466507,\n",
       " 0.015448817983269691,\n",
       " 3.6489713191986084,\n",
       " 3.800715208053589]"
      ]
     },
     "metadata": {},
     "execution_count": 581
    }
   ],
   "metadata": {}
  },
  {
   "cell_type": "code",
   "execution_count": 582,
   "source": [
    "predictions = model.predict(test_ds)\n",
    "predictions.shape"
   ],
   "outputs": [
    {
     "output_type": "stream",
     "name": "stderr",
     "text": [
      "/home/xin/.local/lib/python3.8/site-packages/tensorflow/python/keras/engine/functional.py:588: UserWarning: Input dict contained keys ['id', 'ts', 'wins', 'partner', 'publisher_app', 'bid_price', 'floor_price', 'floor_price_eur', 'clearing_price', 'clearing_price_eur', 'exchange_rate', 'second_highest_bid_price', 'second_highest_bid_price_eur', 'adx_loss_reason', 'winning_bid'] which did not match any model input. They will be ignored by the model.\n",
      "  warnings.warn(\n"
     ]
    },
    {
     "output_type": "execute_result",
     "data": {
      "text/plain": [
       "(269156, 62)"
      ]
     },
     "metadata": {},
     "execution_count": 582
    }
   ],
   "metadata": {}
  },
  {
   "cell_type": "code",
   "execution_count": 583,
   "source": [
    "# plot the model loss in train and validation sets\n",
    "plt.plot(training_history.history['loss'])\n",
    "plt.plot(training_history.history['val_loss'])\n",
    "plt.title('model loss')\n",
    "plt.ylabel('loss')\n",
    "plt.xlabel('epoch')\n",
    "plt.legend(['train', 'val'], loc='upper right')\n",
    "plt.show() "
   ],
   "outputs": [
    {
     "output_type": "display_data",
     "data": {
      "text/plain": [
       "<Figure size 432x288 with 1 Axes>"
      ],
      "image/png": "[encoded data removed]"
     },
     "metadata": {
      "needs_background": "light"
     }
    }
   ],
   "metadata": {}
  },
  {
   "cell_type": "code",
   "execution_count": 584,
   "source": [
    "def plot_history(hist:pd.DataFrame) -> None:\n",
    "    \"\"\"\n",
    "    Plot training vs. validation ANLP over epoch.\n",
    "    \"\"\"\n",
    "    plt.figure()\n",
    "    plt.xlabel('Epoch')\n",
    "    plt.ylabel('ANLP & CRPS')\n",
    "    plt.plot(hist['epoch'], hist['anlp'], label = 'ANLP')\n",
    "    plt.plot(hist['epoch'],hist['val_anlp'],label = 'Val_ANLP')\n",
    "    plt.plot(hist['epoch'], hist['my_crps_loss'], label = 'CRPS')\n",
    "    plt.plot(hist['epoch'],hist['val_my_crps_loss'],label = 'Val_CRPS')\n",
    "    plt.ylim([-1,10])\n",
    "    plt.legend()\n",
    "    plt.show()\n",
    "    \n",
    "    \n",
    "plot_history(hist)"
   ],
   "outputs": [
    {
     "output_type": "display_data",
     "data": {
      "text/plain": [
       "<Figure size 432x288 with 1 Axes>"
      ],
      "image/png": "[encoded data removed]"
     },
     "metadata": {
      "needs_background": "light"
     }
    }
   ],
   "metadata": {}
  },
  {
   "cell_type": "code",
   "execution_count": 745,
   "source": [
    "from sklearn.preprocessing import MinMaxScaler\n",
    "\n",
    "\n",
    "\n",
    "def plot_history(hist:pd.DataFrame) -> None:\n",
    "    \"\"\"\n",
    "    Plot training vs. validation ANLP over epoch.\n",
    "    \"\"\"\n",
    "    # define min max scaler\n",
    "    scaler = MinMaxScaler()\n",
    "    # transform data\n",
    "    data = ['my_crps_loss','val_my_crps_loss','anlp','val_anlp']\n",
    "    \n",
    "    for i in data:\n",
    "        scaled=pd.DataFrame()\n",
    "        df = pd.DataFrame(hist[i])\n",
    "        scaled[[i]] = scaler.fit_transform(df)\n",
    "        #print(scaled)\n",
    "    \n",
    "    \n",
    "        plt.figure()\n",
    "        plt.xlabel('Epoch')\n",
    "        plt.ylabel('ANLP & CRPS')\n",
    "    \n",
    "    \n",
    "        plt.plot(hist['epoch'], scaled[[i]])\n",
    "        plt.ylim([-1,10])\n",
    "        plt.legend()\n",
    "        plt.show()\n",
    "    \n",
    "    \n",
    "plot_history(hist)\n"
   ],
   "outputs": [
    {
     "output_type": "stream",
     "name": "stderr",
     "text": [
      "No handles with labels found to put in legend.\n"
     ]
    },
    {
     "output_type": "display_data",
     "data": {
      "text/plain": [
       "<Figure size 432x288 with 1 Axes>"
      ],
      "image/png": "[encoded data removed]"
     },
     "metadata": {
      "needs_background": "light"
     }
    },
    {
     "output_type": "stream",
     "name": "stderr",
     "text": [
      "No handles with labels found to put in legend.\n"
     ]
    },
    {
     "output_type": "display_data",
     "data": {
      "text/plain": [
       "<Figure size 432x288 with 1 Axes>"
      ],
      "image/png": "[encoded data removed]"
     },
     "metadata": {
      "needs_background": "light"
     }
    },
    {
     "output_type": "stream",
     "name": "stderr",
     "text": [
      "No handles with labels found to put in legend.\n"
     ]
    },
    {
     "output_type": "display_data",
     "data": {
      "text/plain": [
       "<Figure size 432x288 with 1 Axes>"
      ],
      "image/png": "[encoded data removed]"
     },
     "metadata": {
      "needs_background": "light"
     }
    },
    {
     "output_type": "stream",
     "name": "stderr",
     "text": [
      "No handles with labels found to put in legend.\n"
     ]
    },
    {
     "output_type": "display_data",
     "data": {
      "text/plain": [
       "<Figure size 432x288 with 1 Axes>"
      ],
      "image/png": "[encoded data removed]"
     },
     "metadata": {
      "needs_background": "light"
     }
    }
   ],
   "metadata": {
    "scrolled": false
   }
  },
  {
   "cell_type": "code",
   "execution_count": null,
   "source": [],
   "outputs": [],
   "metadata": {}
  },
  {
   "cell_type": "code",
   "execution_count": null,
   "source": [],
   "outputs": [],
   "metadata": {}
  },
  {
   "cell_type": "code",
   "execution_count": 741,
   "source": [
    "# define min max scaler\n",
    "scaler = MinMaxScaler() # transform data\n",
    "data = ['my_crps_loss','val_my_crps_loss','anlp','val_anlp']\n",
    "for i in data:\n",
    "    scaled=pd.DataFrame()\n",
    "    df = pd.DataFrame(hist[i])\n",
    "    scaled[[i]] = scaler.fit_transform(df)\n",
    "    #print(scaled)\n",
    "\n"
   ],
   "outputs": [
    {
     "output_type": "execute_result",
     "data": {
      "text/plain": [
       "    val_anlp\n",
       "0   0.970378\n",
       "1   1.000000\n",
       "2   0.784168\n",
       "3   0.489239\n",
       "4   0.259780\n",
       "5   0.124671\n",
       "6   0.051835\n",
       "7   0.027616\n",
       "8   0.011497\n",
       "9   0.010331\n",
       "10  0.012373\n",
       "11  0.000000\n",
       "12  0.016149\n",
       "13  0.041945\n",
       "14  0.047138"
      ],
      "text/html": [
       "<div>\n",
       "<style scoped>\n",
       "    .dataframe tbody tr th:only-of-type {\n",
       "        vertical-align: middle;\n",
       "    }\n",
       "\n",
       "    .dataframe tbody tr th {\n",
       "        vertical-align: top;\n",
       "    }\n",
       "\n",
       "    .dataframe thead th {\n",
       "        text-align: right;\n",
       "    }\n",
       "</style>\n",
       "<table border=\"1\" class=\"dataframe\">\n",
       "  <thead>\n",
       "    <tr style=\"text-align: right;\">\n",
       "      <th></th>\n",
       "      <th>val_anlp</th>\n",
       "    </tr>\n",
       "  </thead>\n",
       "  <tbody>\n",
       "    <tr>\n",
       "      <th>0</th>\n",
       "      <td>0.970378</td>\n",
       "    </tr>\n",
       "    <tr>\n",
       "      <th>1</th>\n",
       "      <td>1.000000</td>\n",
       "    </tr>\n",
       "    <tr>\n",
       "      <th>2</th>\n",
       "      <td>0.784168</td>\n",
       "    </tr>\n",
       "    <tr>\n",
       "      <th>3</th>\n",
       "      <td>0.489239</td>\n",
       "    </tr>\n",
       "    <tr>\n",
       "      <th>4</th>\n",
       "      <td>0.259780</td>\n",
       "    </tr>\n",
       "    <tr>\n",
       "      <th>5</th>\n",
       "      <td>0.124671</td>\n",
       "    </tr>\n",
       "    <tr>\n",
       "      <th>6</th>\n",
       "      <td>0.051835</td>\n",
       "    </tr>\n",
       "    <tr>\n",
       "      <th>7</th>\n",
       "      <td>0.027616</td>\n",
       "    </tr>\n",
       "    <tr>\n",
       "      <th>8</th>\n",
       "      <td>0.011497</td>\n",
       "    </tr>\n",
       "    <tr>\n",
       "      <th>9</th>\n",
       "      <td>0.010331</td>\n",
       "    </tr>\n",
       "    <tr>\n",
       "      <th>10</th>\n",
       "      <td>0.012373</td>\n",
       "    </tr>\n",
       "    <tr>\n",
       "      <th>11</th>\n",
       "      <td>0.000000</td>\n",
       "    </tr>\n",
       "    <tr>\n",
       "      <th>12</th>\n",
       "      <td>0.016149</td>\n",
       "    </tr>\n",
       "    <tr>\n",
       "      <th>13</th>\n",
       "      <td>0.041945</td>\n",
       "    </tr>\n",
       "    <tr>\n",
       "      <th>14</th>\n",
       "      <td>0.047138</td>\n",
       "    </tr>\n",
       "  </tbody>\n",
       "</table>\n",
       "</div>"
      ]
     },
     "metadata": {},
     "execution_count": 741
    }
   ],
   "metadata": {}
  },
  {
   "cell_type": "code",
   "execution_count": null,
   "source": [],
   "outputs": [],
   "metadata": {}
  },
  {
   "cell_type": "markdown",
   "source": [
    "# Prediction accuarcy\n",
    "\n",
    "Plot an example of the prediction\n",
    "\n",
    "calculate the overall win rate"
   ],
   "metadata": {}
  },
  {
   "cell_type": "code",
   "execution_count": 585,
   "source": [
    "def plot_predictions(predictions, targets, bids, bins, example, save=False):\n",
    "    \n",
    "    fig, ax1 = plt.subplots(figsize=(15, 5))\n",
    "    ax2 = ax1.twinx()\n",
    "    ax1.plot(bins[1:], predictions[example].cumsum(), color='blue') # plot(x, y)\n",
    "    ax2.plot(bins[1:], predictions[example], color='green', alpha=0.5)\n",
    "    \n",
    "    ax1.set_xscale('log')\n",
    "    ax2.set_xscale('log')\n",
    "    \n",
    "    ax1.vlines(targets.values[example], 0, 1, color='red')\n",
    "    ax1.vlines(bids.values[example], 0, 1, color='orange')\n",
    "    \n",
    "    ax1.legend(['Winning Prob.', 'minimum_bid_to_win', 'bid_price_eur'], loc='upper left')\n",
    "    ax2.legend(['Predictions'], loc='lower right')\n",
    "    \n",
    "    plt.title('Prediction CDF for Example #{}'.format(example))\n",
    "    plt.grid()\n",
    "    ax1.set_xlabel('Price')\n",
    "    ax1.set_ylabel('Winning Prob.')\n",
    "    ax2.set_ylabel('Predicted Bin Prob. Density')\n",
    "    \n",
    "    if(save):\n",
    "        plt.savefig('z_predictions_'+str(example)+'.png')\n",
    "        plt.close()\n"
   ],
   "outputs": [],
   "metadata": {}
  },
  {
   "cell_type": "code",
   "execution_count": null,
   "source": [
    "predictions.shape"
   ],
   "outputs": [],
   "metadata": {}
  },
  {
   "cell_type": "code",
   "execution_count": 587,
   "source": [
    "# \n",
    "plot_predictions(predictions = predictions, targets = test['win_price'], bids = test['bid_price_eur'], bins = bins, \n",
    "                 example = 160, save = False) # 160,196"
   ],
   "outputs": [
    {
     "output_type": "display_data",
     "data": {
      "text/plain": [
       "<Figure size 1080x360 with 2 Axes>"
      ],
      "image/png": "[encoded data removed]"
     },
     "metadata": {
      "needs_background": "light"
     }
    }
   ],
   "metadata": {}
  },
  {
   "cell_type": "code",
   "execution_count": 705,
   "source": [
    "# whole set /my_censored_binary_loss\n",
    "calc_prediction_accuracy(predictions=predictions, \n",
    "                         targets=test['win_price'], #  Problem: 1st price for losing bids\n",
    "                         cuts=cuts, \n",
    "                         percentile_to_bid=0.5)"
   ],
   "outputs": [
    {
     "output_type": "execute_result",
     "data": {
      "text/plain": [
       "0.2359746763958448"
      ]
     },
     "metadata": {},
     "execution_count": 705
    }
   ],
   "metadata": {}
  },
  {
   "cell_type": "code",
   "execution_count": 589,
   "source": [
    "win_predictions = model.predict(win_ds)\n",
    "win_predictions.shape"
   ],
   "outputs": [
    {
     "output_type": "execute_result",
     "data": {
      "text/plain": [
       "(11768, 62)"
      ]
     },
     "metadata": {},
     "execution_count": 589
    }
   ],
   "metadata": {}
  },
  {
   "cell_type": "code",
   "execution_count": 590,
   "source": [
    "# only winning bids /my_censored_binary_loss\n",
    "calc_prediction_accuracy(predictions=win_predictions, \n",
    "                         targets=test.loc[test.wins==1, 'win_price'], #  True 2nd price\n",
    "                         cuts=cuts, \n",
    "                         percentile_to_bid=0.5)"
   ],
   "outputs": [
    {
     "output_type": "execute_result",
     "data": {
      "text/plain": [
       "0.5769884432358939"
      ]
     },
     "metadata": {},
     "execution_count": 590
    }
   ],
   "metadata": {}
  },
  {
   "cell_type": "code",
   "execution_count": 146,
   "source": [
    "# win bids proportion in the dataset(based on the wins column)\n",
    "df.wins.mean()"
   ],
   "outputs": [
    {
     "output_type": "execute_result",
     "data": {
      "text/plain": [
       "0.05024981869196657"
      ]
     },
     "metadata": {},
     "execution_count": 146
    }
   ],
   "metadata": {}
  },
  {
   "cell_type": "code",
   "execution_count": 147,
   "source": [
    "# win bids proportion in the dataset(based on the adx feedback 1&83 -> win)\n",
    "1-len(df[(df['adx_loss_reason']== 79)])/len(df)"
   ],
   "outputs": [
    {
     "output_type": "execute_result",
     "data": {
      "text/plain": [
       "0.05079077052941949"
      ]
     },
     "metadata": {},
     "execution_count": 147
    }
   ],
   "metadata": {}
  },
  {
   "cell_type": "markdown",
   "source": [
    "---"
   ],
   "metadata": {}
  },
  {
   "cell_type": "markdown",
   "source": [
    "# prediction bins\n",
    "\n",
    "**`find_prediction_bin()`: finds the exact bin with cumulative predicted prob. ≥ threshold** \n",
    "> `percentile_to_bid` = 0.5: which bin should I bid to have a 50% to win? \\\n"
   ],
   "metadata": {}
  },
  {
   "cell_type": "code",
   "execution_count": null,
   "source": [
    "#a = np.array([.2, .3, .2, .3]) # prob. of each bin\n",
    "#print(a.cumsum())\n",
    "#find_prediction_bin(a, .5)"
   ],
   "outputs": [],
   "metadata": {}
  },
  {
   "cell_type": "code",
   "execution_count": 591,
   "source": [
    "def find_prediction_bin(predictions, percentile_to_bid):\n",
    "    return (predictions.cumsum(axis=-1) < percentile_to_bid).astype(np.int).sum(axis=-1)\n",
    "\n",
    "pred_bins = find_prediction_bin(predictions, .75)\n",
    "#pd.DataFrame(pred_bins, columns=['Predicted Bins']).hist(bins=len(cuts)) # bins= no. of bins"
   ],
   "outputs": [],
   "metadata": {}
  },
  {
   "cell_type": "code",
   "execution_count": 593,
   "source": [
    "(predictions.cumsum(axis = 1) < 0.5).astype(np.int).sum(axis = -1)"
   ],
   "outputs": [
    {
     "output_type": "execute_result",
     "data": {
      "text/plain": [
       "array([27, 14, 27, ..., 19, 19, 19])"
      ]
     },
     "metadata": {},
     "execution_count": 593
    }
   ],
   "metadata": {}
  },
  {
   "cell_type": "code",
   "execution_count": null,
   "source": [
    "predictions"
   ],
   "outputs": [],
   "metadata": {}
  },
  {
   "cell_type": "code",
   "execution_count": 594,
   "source": [
    "test_bins = test[['bid_price_eur', 'win_price']].apply(lambda x: np.digitize(x, cuts))\n",
    "test_bins['Prediction'] = find_prediction_bin(predictions, .5)\n",
    "test_bins"
   ],
   "outputs": [
    {
     "output_type": "execute_result",
     "data": {
      "text/plain": [
       "        bid_price_eur  win_price  Prediction\n",
       "209858             18         39          27\n",
       "821826             32         40          14\n",
       "466275              6         55          27\n",
       "714328              7         17          13\n",
       "708684             22         40          14\n",
       "...               ...        ...         ...\n",
       "152718              0         49          35\n",
       "973604              0         29          19\n",
       "436656              0         29          19\n",
       "287801              0         31          19\n",
       "91646               7         15          19\n",
       "\n",
       "[269156 rows x 3 columns]"
      ],
      "text/html": [
       "<div>\n",
       "<style scoped>\n",
       "    .dataframe tbody tr th:only-of-type {\n",
       "        vertical-align: middle;\n",
       "    }\n",
       "\n",
       "    .dataframe tbody tr th {\n",
       "        vertical-align: top;\n",
       "    }\n",
       "\n",
       "    .dataframe thead th {\n",
       "        text-align: right;\n",
       "    }\n",
       "</style>\n",
       "<table border=\"1\" class=\"dataframe\">\n",
       "  <thead>\n",
       "    <tr style=\"text-align: right;\">\n",
       "      <th></th>\n",
       "      <th>bid_price_eur</th>\n",
       "      <th>win_price</th>\n",
       "      <th>Prediction</th>\n",
       "    </tr>\n",
       "  </thead>\n",
       "  <tbody>\n",
       "    <tr>\n",
       "      <th>209858</th>\n",
       "      <td>18</td>\n",
       "      <td>39</td>\n",
       "      <td>27</td>\n",
       "    </tr>\n",
       "    <tr>\n",
       "      <th>821826</th>\n",
       "      <td>32</td>\n",
       "      <td>40</td>\n",
       "      <td>14</td>\n",
       "    </tr>\n",
       "    <tr>\n",
       "      <th>466275</th>\n",
       "      <td>6</td>\n",
       "      <td>55</td>\n",
       "      <td>27</td>\n",
       "    </tr>\n",
       "    <tr>\n",
       "      <th>714328</th>\n",
       "      <td>7</td>\n",
       "      <td>17</td>\n",
       "      <td>13</td>\n",
       "    </tr>\n",
       "    <tr>\n",
       "      <th>708684</th>\n",
       "      <td>22</td>\n",
       "      <td>40</td>\n",
       "      <td>14</td>\n",
       "    </tr>\n",
       "    <tr>\n",
       "      <th>...</th>\n",
       "      <td>...</td>\n",
       "      <td>...</td>\n",
       "      <td>...</td>\n",
       "    </tr>\n",
       "    <tr>\n",
       "      <th>152718</th>\n",
       "      <td>0</td>\n",
       "      <td>49</td>\n",
       "      <td>35</td>\n",
       "    </tr>\n",
       "    <tr>\n",
       "      <th>973604</th>\n",
       "      <td>0</td>\n",
       "      <td>29</td>\n",
       "      <td>19</td>\n",
       "    </tr>\n",
       "    <tr>\n",
       "      <th>436656</th>\n",
       "      <td>0</td>\n",
       "      <td>29</td>\n",
       "      <td>19</td>\n",
       "    </tr>\n",
       "    <tr>\n",
       "      <th>287801</th>\n",
       "      <td>0</td>\n",
       "      <td>31</td>\n",
       "      <td>19</td>\n",
       "    </tr>\n",
       "    <tr>\n",
       "      <th>91646</th>\n",
       "      <td>7</td>\n",
       "      <td>15</td>\n",
       "      <td>19</td>\n",
       "    </tr>\n",
       "  </tbody>\n",
       "</table>\n",
       "<p>269156 rows × 3 columns</p>\n",
       "</div>"
      ]
     },
     "metadata": {},
     "execution_count": 594
    }
   ],
   "metadata": {}
  },
  {
   "cell_type": "code",
   "execution_count": 595,
   "source": [
    "# pict. how's your prediction look like? \n",
    "winning = test_bins['bid_price_eur'] > test_bins['win_price']\n",
    "test_bins.loc[winning].hist(bins=20, figsize=(10,6));"
   ],
   "outputs": [
    {
     "output_type": "display_data",
     "data": {
      "text/plain": [
       "<Figure size 720x432 with 4 Axes>"
      ],
      "image/png": "[encoded data removed]"
     },
     "metadata": {
      "needs_background": "light"
     }
    }
   ],
   "metadata": {
    "scrolled": false
   }
  },
  {
   "cell_type": "code",
   "execution_count": 596,
   "source": [
    "winning = test_bins['bid_price_eur'] > test_bins['win_price']\n",
    "test_bins.loc[~winning].hist(bins=20, figsize=(10,6));"
   ],
   "outputs": [
    {
     "output_type": "display_data",
     "data": {
      "text/plain": [
       "<Figure size 720x432 with 4 Axes>"
      ],
      "image/png": "[encoded data removed]"
     },
     "metadata": {
      "needs_background": "light"
     }
    }
   ],
   "metadata": {}
  },
  {
   "cell_type": "code",
   "execution_count": 597,
   "source": [
    "(test_bins['Prediction'] >= test_bins['win_price']).mean() # This verifies that the calc. is correct"
   ],
   "outputs": [
    {
     "output_type": "execute_result",
     "data": {
      "text/plain": [
       "0.2359746763958448"
      ]
     },
     "metadata": {},
     "execution_count": 597
    }
   ],
   "metadata": {}
  },
  {
   "cell_type": "code",
   "execution_count": 598,
   "source": [
    "# hist of the diff btw pred and true win_price\n",
    "# incl. win and lose\n",
    "(test_bins['Prediction'] - test_bins['win_price']).hist(bins=20)"
   ],
   "outputs": [
    {
     "output_type": "execute_result",
     "data": {
      "text/plain": [
       "<AxesSubplot:>"
      ]
     },
     "metadata": {},
     "execution_count": 598
    },
    {
     "output_type": "display_data",
     "data": {
      "text/plain": [
       "<Figure size 432x288 with 1 Axes>"
      ],
      "image/png": "[encoded data removed]"
     },
     "metadata": {
      "needs_background": "light"
     }
    }
   ],
   "metadata": {
    "scrolled": true
   }
  },
  {
   "cell_type": "code",
   "execution_count": 599,
   "source": [
    "winning = test_bins['bid_price_eur'] > test_bins['win_price']\n",
    "# winning = test_bins['Prediction'] >= test_bins['win_price']\n",
    "\n",
    "print('Avg. overbid (# of bins for winning records): {:.2f}'.format(\n",
    "          (test_bins.loc[winning, 'Prediction'] - test_bins.loc[winning, 'win_price']).median()),\n",
    "      '\\nAvg. underbid (# of bins for losing recores): {:.2f}'.format(\n",
    "          (test_bins.loc[~winning, 'Prediction'] - test_bins.loc[~winning, 'win_price']).median()),\n",
    "      '\\n\\nWin rate in originally winning bids: {:.2%}'.format(\n",
    "          (test_bins.loc[winning, 'Prediction'] >= test_bins.loc[winning, 'win_price']).mean()),\n",
    "      '\\nWin rate in originally losing bids: {:.2%}'.format(\n",
    "          (test_bins.loc[~winning, 'Prediction'] >= test_bins.loc[~winning, 'win_price']).mean())\n",
    "     )"
   ],
   "outputs": [
    {
     "output_type": "stream",
     "name": "stdout",
     "text": [
      "Avg. overbid (# of bins for winning records): -1.00 \n",
      "Avg. underbid (# of bins for losing recores): -9.00 \n",
      "\n",
      "Win rate in originally winning bids: 47.77% \n",
      "Win rate in originally losing bids: 23.33%\n"
     ]
    }
   ],
   "metadata": {}
  },
  {
   "cell_type": "markdown",
   "source": [
    "---"
   ],
   "metadata": {}
  },
  {
   "cell_type": "markdown",
   "source": [
    "# Country Plot"
   ],
   "metadata": {}
  },
  {
   "cell_type": "code",
   "execution_count": 615,
   "source": [
    "from matplotlib.pyplot import cm"
   ],
   "outputs": [],
   "metadata": {}
  },
  {
   "cell_type": "code",
   "execution_count": 616,
   "source": [
    "print(predictions.shape)\n",
    "predictions"
   ],
   "outputs": [
    {
     "output_type": "stream",
     "name": "stdout",
     "text": [
      "(269156, 62)\n"
     ]
    },
    {
     "output_type": "execute_result",
     "data": {
      "text/plain": [
       "array([[0.00387444, 0.00488632, 0.0056569 , ..., 0.00106962, 0.00037772,\n",
       "        0.00056542],\n",
       "       [0.03691919, 0.05009366, 0.03926467, ..., 0.00042545, 0.00023301,\n",
       "        0.00030474],\n",
       "       [0.0010754 , 0.0008187 , 0.00193446, ..., 0.00046203, 0.00012217,\n",
       "        0.00025667],\n",
       "       ...,\n",
       "       [0.01666436, 0.02309257, 0.02063765, ..., 0.00052581, 0.00024483,\n",
       "        0.00033346],\n",
       "       [0.01666436, 0.02309257, 0.02063765, ..., 0.00052581, 0.00024483,\n",
       "        0.00033346],\n",
       "       [0.01666436, 0.02309257, 0.02063765, ..., 0.00052581, 0.00024483,\n",
       "        0.00033346]], dtype=float32)"
      ]
     },
     "metadata": {},
     "execution_count": 616
    }
   ],
   "metadata": {}
  },
  {
   "cell_type": "code",
   "execution_count": 617,
   "source": [
    "cuts"
   ],
   "outputs": [
    {
     "output_type": "execute_result",
     "data": {
      "text/plain": [
       "array([    50000,     90000,    110000,    140000,    150000,    160000,\n",
       "          180000,    200000,    220000,    250000,    280000,    290000,\n",
       "          300000,    380000,    420000,    450000,    500000,    590000,\n",
       "          640000,    650000,    690000,    740000,    960000,    990000,\n",
       "         1090000,   1170000,   1190000,   1290000,   1450000,   2350000,\n",
       "         2490000,   2530000,   2970000,   3380000,   3580000,   3790000,\n",
       "         3870000,   3970000,   4050000,   5474965,   6230000,   6870000,\n",
       "         7050000,   7130000,   7950000,   8199999,   8630000,   9350000,\n",
       "        10890000,  12500000,  12670000,  13550000,  14300000,  14790000,\n",
       "        16690000,  20930000,  30150000,  57890000,  66067929, 121979183,\n",
       "       141347565])"
      ]
     },
     "metadata": {},
     "execution_count": 617
    }
   ],
   "metadata": {}
  },
  {
   "cell_type": "code",
   "execution_count": 618,
   "source": [
    "pred_cumsum = np.cumsum(predictions, axis=1)"
   ],
   "outputs": [],
   "metadata": {}
  },
  {
   "cell_type": "code",
   "execution_count": 619,
   "source": [
    "pred_cumsum"
   ],
   "outputs": [
    {
     "output_type": "execute_result",
     "data": {
      "text/plain": [
       "array([[0.00387444, 0.00876075, 0.01441765, ..., 0.9990568 , 0.99943453,\n",
       "        0.99999994],\n",
       "       [0.03691919, 0.08701285, 0.12627752, ..., 0.99946225, 0.99969524,\n",
       "        1.        ],\n",
       "       [0.0010754 , 0.0018941 , 0.00382856, ..., 0.9996213 , 0.99974346,\n",
       "        1.0000001 ],\n",
       "       ...,\n",
       "       [0.01666436, 0.03975692, 0.06039458, ..., 0.99942183, 0.9996667 ,\n",
       "        1.0000001 ],\n",
       "       [0.01666436, 0.03975692, 0.06039458, ..., 0.99942183, 0.9996667 ,\n",
       "        1.0000001 ],\n",
       "       [0.01666436, 0.03975692, 0.06039458, ..., 0.99942183, 0.9996667 ,\n",
       "        1.0000001 ]], dtype=float32)"
      ]
     },
     "metadata": {},
     "execution_count": 619
    }
   ],
   "metadata": {}
  },
  {
   "cell_type": "code",
   "execution_count": 620,
   "source": [
    "bins.shape"
   ],
   "outputs": [
    {
     "output_type": "execute_result",
     "data": {
      "text/plain": [
       "(63,)"
      ]
     },
     "metadata": {},
     "execution_count": 620
    }
   ],
   "metadata": {}
  },
  {
   "cell_type": "code",
   "execution_count": 621,
   "source": [
    "pred_cumsum_df.shape"
   ],
   "outputs": [
    {
     "output_type": "execute_result",
     "data": {
      "text/plain": [
       "(269156, 87)"
      ]
     },
     "metadata": {},
     "execution_count": 621
    }
   ],
   "metadata": {}
  },
  {
   "cell_type": "code",
   "execution_count": 622,
   "source": [
    "pred_cumsum_df = pd.DataFrame.from_records(pred_cumsum,\n",
    "                          index=test.index, columns=bins[1:])\n",
    "pred_cumsum_df "
   ],
   "outputs": [
    {
     "output_type": "execute_result",
     "data": {
      "text/plain": [
       "        50000         90000         110000        140000        150000        \\\n",
       "209858      0.003874      0.008761      0.014418      0.022792      0.027668   \n",
       "821826      0.036919      0.087013      0.126278      0.172891      0.192556   \n",
       "466275      0.001075      0.001894      0.003829      0.006651      0.007815   \n",
       "714328      0.039078      0.097545      0.150668      0.214402      0.238008   \n",
       "708684      0.036919      0.087013      0.126278      0.172891      0.192556   \n",
       "...              ...           ...           ...           ...           ...   \n",
       "152718      0.000221      0.000353      0.000698      0.001229      0.001716   \n",
       "973604      0.016664      0.039757      0.060395      0.088179      0.100931   \n",
       "436656      0.016664      0.039757      0.060395      0.088179      0.100931   \n",
       "287801      0.016664      0.039757      0.060395      0.088179      0.100931   \n",
       "91646       0.016664      0.039757      0.060395      0.088179      0.100931   \n",
       "\n",
       "        160000        180000        200000        220000        250000        \\\n",
       "209858      0.033122      0.040019      0.049081      0.059618      0.073023   \n",
       "821826      0.216781      0.248135      0.278577      0.308797      0.346890   \n",
       "466275      0.009154      0.011013      0.013473      0.017664      0.022845   \n",
       "714328      0.267311      0.310004      0.346752      0.382237      0.428890   \n",
       "708684      0.216781      0.248135      0.278577      0.308797      0.346890   \n",
       "...              ...           ...           ...           ...           ...   \n",
       "152718      0.002546      0.003238      0.004287      0.005806      0.007215   \n",
       "973604      0.115704      0.135135      0.156114      0.177935      0.206677   \n",
       "436656      0.115704      0.135135      0.156114      0.177935      0.206677   \n",
       "287801      0.115704      0.135135      0.156114      0.177935      0.206677   \n",
       "91646       0.115704      0.135135      0.156114      0.177935      0.206677   \n",
       "\n",
       "        ...  14300000      14790000      16690000      20930000      \\\n",
       "209858  ...      0.986451      0.987157      0.988959      0.991833   \n",
       "821826  ...      0.994904      0.995255      0.995998      0.996964   \n",
       "466275  ...      0.994327      0.994613      0.995398      0.996669   \n",
       "714328  ...      0.995233      0.995593      0.996270      0.997094   \n",
       "708684  ...      0.994904      0.995255      0.995998      0.996964   \n",
       "...     ...           ...           ...           ...           ...   \n",
       "152718  ...      0.866903      0.871896      0.888079      0.913386   \n",
       "973604  ...      0.993574      0.993976      0.994888      0.996180   \n",
       "436656  ...      0.993574      0.993976      0.994888      0.996180   \n",
       "287801  ...      0.993574      0.993976      0.994888      0.996180   \n",
       "91646   ...      0.993574      0.993976      0.994888      0.996180   \n",
       "\n",
       "        30150000      57890000      66067929      121979183     141347565     \\\n",
       "209858      0.994959      0.997477      0.997987      0.999057      0.999435   \n",
       "821826      0.997936      0.998789      0.999037      0.999462      0.999695   \n",
       "466275      0.998025      0.998983      0.999159      0.999621      0.999743   \n",
       "714328      0.997908      0.998678      0.998940      0.999408      0.999669   \n",
       "708684      0.997936      0.998789      0.999037      0.999462      0.999695   \n",
       "...              ...           ...           ...           ...           ...   \n",
       "152718      0.944532      0.978274      0.982203      0.993720      0.995740   \n",
       "973604      0.997515      0.998616      0.998896      0.999422      0.999667   \n",
       "436656      0.997515      0.998616      0.998896      0.999422      0.999667   \n",
       "287801      0.997515      0.998616      0.998896      0.999422      0.999667   \n",
       "91646       0.997515      0.998616      0.998896      0.999422      0.999667   \n",
       "\n",
       "        147058830001  \n",
       "209858           1.0  \n",
       "821826           1.0  \n",
       "466275           1.0  \n",
       "714328           1.0  \n",
       "708684           1.0  \n",
       "...              ...  \n",
       "152718           1.0  \n",
       "973604           1.0  \n",
       "436656           1.0  \n",
       "287801           1.0  \n",
       "91646            1.0  \n",
       "\n",
       "[269156 rows x 62 columns]"
      ],
      "text/html": [
       "<div>\n",
       "<style scoped>\n",
       "    .dataframe tbody tr th:only-of-type {\n",
       "        vertical-align: middle;\n",
       "    }\n",
       "\n",
       "    .dataframe tbody tr th {\n",
       "        vertical-align: top;\n",
       "    }\n",
       "\n",
       "    .dataframe thead th {\n",
       "        text-align: right;\n",
       "    }\n",
       "</style>\n",
       "<table border=\"1\" class=\"dataframe\">\n",
       "  <thead>\n",
       "    <tr style=\"text-align: right;\">\n",
       "      <th></th>\n",
       "      <th>50000</th>\n",
       "      <th>90000</th>\n",
       "      <th>110000</th>\n",
       "      <th>140000</th>\n",
       "      <th>150000</th>\n",
       "      <th>160000</th>\n",
       "      <th>180000</th>\n",
       "      <th>200000</th>\n",
       "      <th>220000</th>\n",
       "      <th>250000</th>\n",
       "      <th>...</th>\n",
       "      <th>14300000</th>\n",
       "      <th>14790000</th>\n",
       "      <th>16690000</th>\n",
       "      <th>20930000</th>\n",
       "      <th>30150000</th>\n",
       "      <th>57890000</th>\n",
       "      <th>66067929</th>\n",
       "      <th>121979183</th>\n",
       "      <th>141347565</th>\n",
       "      <th>147058830001</th>\n",
       "    </tr>\n",
       "  </thead>\n",
       "  <tbody>\n",
       "    <tr>\n",
       "      <th>209858</th>\n",
       "      <td>0.003874</td>\n",
       "      <td>0.008761</td>\n",
       "      <td>0.014418</td>\n",
       "      <td>0.022792</td>\n",
       "      <td>0.027668</td>\n",
       "      <td>0.033122</td>\n",
       "      <td>0.040019</td>\n",
       "      <td>0.049081</td>\n",
       "      <td>0.059618</td>\n",
       "      <td>0.073023</td>\n",
       "      <td>...</td>\n",
       "      <td>0.986451</td>\n",
       "      <td>0.987157</td>\n",
       "      <td>0.988959</td>\n",
       "      <td>0.991833</td>\n",
       "      <td>0.994959</td>\n",
       "      <td>0.997477</td>\n",
       "      <td>0.997987</td>\n",
       "      <td>0.999057</td>\n",
       "      <td>0.999435</td>\n",
       "      <td>1.0</td>\n",
       "    </tr>\n",
       "    <tr>\n",
       "      <th>821826</th>\n",
       "      <td>0.036919</td>\n",
       "      <td>0.087013</td>\n",
       "      <td>0.126278</td>\n",
       "      <td>0.172891</td>\n",
       "      <td>0.192556</td>\n",
       "      <td>0.216781</td>\n",
       "      <td>0.248135</td>\n",
       "      <td>0.278577</td>\n",
       "      <td>0.308797</td>\n",
       "      <td>0.346890</td>\n",
       "      <td>...</td>\n",
       "      <td>0.994904</td>\n",
       "      <td>0.995255</td>\n",
       "      <td>0.995998</td>\n",
       "      <td>0.996964</td>\n",
       "      <td>0.997936</td>\n",
       "      <td>0.998789</td>\n",
       "      <td>0.999037</td>\n",
       "      <td>0.999462</td>\n",
       "      <td>0.999695</td>\n",
       "      <td>1.0</td>\n",
       "    </tr>\n",
       "    <tr>\n",
       "      <th>466275</th>\n",
       "      <td>0.001075</td>\n",
       "      <td>0.001894</td>\n",
       "      <td>0.003829</td>\n",
       "      <td>0.006651</td>\n",
       "      <td>0.007815</td>\n",
       "      <td>0.009154</td>\n",
       "      <td>0.011013</td>\n",
       "      <td>0.013473</td>\n",
       "      <td>0.017664</td>\n",
       "      <td>0.022845</td>\n",
       "      <td>...</td>\n",
       "      <td>0.994327</td>\n",
       "      <td>0.994613</td>\n",
       "      <td>0.995398</td>\n",
       "      <td>0.996669</td>\n",
       "      <td>0.998025</td>\n",
       "      <td>0.998983</td>\n",
       "      <td>0.999159</td>\n",
       "      <td>0.999621</td>\n",
       "      <td>0.999743</td>\n",
       "      <td>1.0</td>\n",
       "    </tr>\n",
       "    <tr>\n",
       "      <th>714328</th>\n",
       "      <td>0.039078</td>\n",
       "      <td>0.097545</td>\n",
       "      <td>0.150668</td>\n",
       "      <td>0.214402</td>\n",
       "      <td>0.238008</td>\n",
       "      <td>0.267311</td>\n",
       "      <td>0.310004</td>\n",
       "      <td>0.346752</td>\n",
       "      <td>0.382237</td>\n",
       "      <td>0.428890</td>\n",
       "      <td>...</td>\n",
       "      <td>0.995233</td>\n",
       "      <td>0.995593</td>\n",
       "      <td>0.996270</td>\n",
       "      <td>0.997094</td>\n",
       "      <td>0.997908</td>\n",
       "      <td>0.998678</td>\n",
       "      <td>0.998940</td>\n",
       "      <td>0.999408</td>\n",
       "      <td>0.999669</td>\n",
       "      <td>1.0</td>\n",
       "    </tr>\n",
       "    <tr>\n",
       "      <th>708684</th>\n",
       "      <td>0.036919</td>\n",
       "      <td>0.087013</td>\n",
       "      <td>0.126278</td>\n",
       "      <td>0.172891</td>\n",
       "      <td>0.192556</td>\n",
       "      <td>0.216781</td>\n",
       "      <td>0.248135</td>\n",
       "      <td>0.278577</td>\n",
       "      <td>0.308797</td>\n",
       "      <td>0.346890</td>\n",
       "      <td>...</td>\n",
       "      <td>0.994904</td>\n",
       "      <td>0.995255</td>\n",
       "      <td>0.995998</td>\n",
       "      <td>0.996964</td>\n",
       "      <td>0.997936</td>\n",
       "      <td>0.998789</td>\n",
       "      <td>0.999037</td>\n",
       "      <td>0.999462</td>\n",
       "      <td>0.999695</td>\n",
       "      <td>1.0</td>\n",
       "    </tr>\n",
       "    <tr>\n",
       "      <th>...</th>\n",
       "      <td>...</td>\n",
       "      <td>...</td>\n",
       "      <td>...</td>\n",
       "      <td>...</td>\n",
       "      <td>...</td>\n",
       "      <td>...</td>\n",
       "      <td>...</td>\n",
       "      <td>...</td>\n",
       "      <td>...</td>\n",
       "      <td>...</td>\n",
       "      <td>...</td>\n",
       "      <td>...</td>\n",
       "      <td>...</td>\n",
       "      <td>...</td>\n",
       "      <td>...</td>\n",
       "      <td>...</td>\n",
       "      <td>...</td>\n",
       "      <td>...</td>\n",
       "      <td>...</td>\n",
       "      <td>...</td>\n",
       "      <td>...</td>\n",
       "    </tr>\n",
       "    <tr>\n",
       "      <th>152718</th>\n",
       "      <td>0.000221</td>\n",
       "      <td>0.000353</td>\n",
       "      <td>0.000698</td>\n",
       "      <td>0.001229</td>\n",
       "      <td>0.001716</td>\n",
       "      <td>0.002546</td>\n",
       "      <td>0.003238</td>\n",
       "      <td>0.004287</td>\n",
       "      <td>0.005806</td>\n",
       "      <td>0.007215</td>\n",
       "      <td>...</td>\n",
       "      <td>0.866903</td>\n",
       "      <td>0.871896</td>\n",
       "      <td>0.888079</td>\n",
       "      <td>0.913386</td>\n",
       "      <td>0.944532</td>\n",
       "      <td>0.978274</td>\n",
       "      <td>0.982203</td>\n",
       "      <td>0.993720</td>\n",
       "      <td>0.995740</td>\n",
       "      <td>1.0</td>\n",
       "    </tr>\n",
       "    <tr>\n",
       "      <th>973604</th>\n",
       "      <td>0.016664</td>\n",
       "      <td>0.039757</td>\n",
       "      <td>0.060395</td>\n",
       "      <td>0.088179</td>\n",
       "      <td>0.100931</td>\n",
       "      <td>0.115704</td>\n",
       "      <td>0.135135</td>\n",
       "      <td>0.156114</td>\n",
       "      <td>0.177935</td>\n",
       "      <td>0.206677</td>\n",
       "      <td>...</td>\n",
       "      <td>0.993574</td>\n",
       "      <td>0.993976</td>\n",
       "      <td>0.994888</td>\n",
       "      <td>0.996180</td>\n",
       "      <td>0.997515</td>\n",
       "      <td>0.998616</td>\n",
       "      <td>0.998896</td>\n",
       "      <td>0.999422</td>\n",
       "      <td>0.999667</td>\n",
       "      <td>1.0</td>\n",
       "    </tr>\n",
       "    <tr>\n",
       "      <th>436656</th>\n",
       "      <td>0.016664</td>\n",
       "      <td>0.039757</td>\n",
       "      <td>0.060395</td>\n",
       "      <td>0.088179</td>\n",
       "      <td>0.100931</td>\n",
       "      <td>0.115704</td>\n",
       "      <td>0.135135</td>\n",
       "      <td>0.156114</td>\n",
       "      <td>0.177935</td>\n",
       "      <td>0.206677</td>\n",
       "      <td>...</td>\n",
       "      <td>0.993574</td>\n",
       "      <td>0.993976</td>\n",
       "      <td>0.994888</td>\n",
       "      <td>0.996180</td>\n",
       "      <td>0.997515</td>\n",
       "      <td>0.998616</td>\n",
       "      <td>0.998896</td>\n",
       "      <td>0.999422</td>\n",
       "      <td>0.999667</td>\n",
       "      <td>1.0</td>\n",
       "    </tr>\n",
       "    <tr>\n",
       "      <th>287801</th>\n",
       "      <td>0.016664</td>\n",
       "      <td>0.039757</td>\n",
       "      <td>0.060395</td>\n",
       "      <td>0.088179</td>\n",
       "      <td>0.100931</td>\n",
       "      <td>0.115704</td>\n",
       "      <td>0.135135</td>\n",
       "      <td>0.156114</td>\n",
       "      <td>0.177935</td>\n",
       "      <td>0.206677</td>\n",
       "      <td>...</td>\n",
       "      <td>0.993574</td>\n",
       "      <td>0.993976</td>\n",
       "      <td>0.994888</td>\n",
       "      <td>0.996180</td>\n",
       "      <td>0.997515</td>\n",
       "      <td>0.998616</td>\n",
       "      <td>0.998896</td>\n",
       "      <td>0.999422</td>\n",
       "      <td>0.999667</td>\n",
       "      <td>1.0</td>\n",
       "    </tr>\n",
       "    <tr>\n",
       "      <th>91646</th>\n",
       "      <td>0.016664</td>\n",
       "      <td>0.039757</td>\n",
       "      <td>0.060395</td>\n",
       "      <td>0.088179</td>\n",
       "      <td>0.100931</td>\n",
       "      <td>0.115704</td>\n",
       "      <td>0.135135</td>\n",
       "      <td>0.156114</td>\n",
       "      <td>0.177935</td>\n",
       "      <td>0.206677</td>\n",
       "      <td>...</td>\n",
       "      <td>0.993574</td>\n",
       "      <td>0.993976</td>\n",
       "      <td>0.994888</td>\n",
       "      <td>0.996180</td>\n",
       "      <td>0.997515</td>\n",
       "      <td>0.998616</td>\n",
       "      <td>0.998896</td>\n",
       "      <td>0.999422</td>\n",
       "      <td>0.999667</td>\n",
       "      <td>1.0</td>\n",
       "    </tr>\n",
       "  </tbody>\n",
       "</table>\n",
       "<p>269156 rows × 62 columns</p>\n",
       "</div>"
      ]
     },
     "metadata": {},
     "execution_count": 622
    }
   ],
   "metadata": {}
  },
  {
   "cell_type": "code",
   "execution_count": 623,
   "source": [
    "tmp = test[list(['country'])]\n",
    "# pred_cumsum_df.merge(tmp)"
   ],
   "outputs": [],
   "metadata": {}
  },
  {
   "cell_type": "code",
   "execution_count": null,
   "source": [
    "tmp"
   ],
   "outputs": [],
   "metadata": {}
  },
  {
   "cell_type": "code",
   "execution_count": 624,
   "source": [
    "pred_country_df = tmp.merge(pred_cumsum_df, left_index=True, right_index= True) # used name: pred_country_df= plot_df\n",
    "pred_country_df"
   ],
   "outputs": [
    {
     "output_type": "execute_result",
     "data": {
      "text/plain": [
       "       country     50000     90000    110000    140000    150000    160000  \\\n",
       "209858      us  0.003874  0.008761  0.014418  0.022792  0.027668  0.033122   \n",
       "821826      us  0.036919  0.087013  0.126278  0.172891  0.192556  0.216781   \n",
       "466275      ru  0.001075  0.001894  0.003829  0.006651  0.007815  0.009154   \n",
       "714328      jp  0.039078  0.097545  0.150668  0.214402  0.238008  0.267311   \n",
       "708684      us  0.036919  0.087013  0.126278  0.172891  0.192556  0.216781   \n",
       "...        ...       ...       ...       ...       ...       ...       ...   \n",
       "152718      us  0.000221  0.000353  0.000698  0.001229  0.001716  0.002546   \n",
       "973604      us  0.016664  0.039757  0.060395  0.088179  0.100931  0.115704   \n",
       "436656      us  0.016664  0.039757  0.060395  0.088179  0.100931  0.115704   \n",
       "287801      us  0.016664  0.039757  0.060395  0.088179  0.100931  0.115704   \n",
       "91646       us  0.016664  0.039757  0.060395  0.088179  0.100931  0.115704   \n",
       "\n",
       "          180000    200000    220000  ...  14300000  14790000  16690000  \\\n",
       "209858  0.040019  0.049081  0.059618  ...  0.986451  0.987157  0.988959   \n",
       "821826  0.248135  0.278577  0.308797  ...  0.994904  0.995255  0.995998   \n",
       "466275  0.011013  0.013473  0.017664  ...  0.994327  0.994613  0.995398   \n",
       "714328  0.310004  0.346752  0.382237  ...  0.995233  0.995593  0.996270   \n",
       "708684  0.248135  0.278577  0.308797  ...  0.994904  0.995255  0.995998   \n",
       "...          ...       ...       ...  ...       ...       ...       ...   \n",
       "152718  0.003238  0.004287  0.005806  ...  0.866903  0.871896  0.888079   \n",
       "973604  0.135135  0.156114  0.177935  ...  0.993574  0.993976  0.994888   \n",
       "436656  0.135135  0.156114  0.177935  ...  0.993574  0.993976  0.994888   \n",
       "287801  0.135135  0.156114  0.177935  ...  0.993574  0.993976  0.994888   \n",
       "91646   0.135135  0.156114  0.177935  ...  0.993574  0.993976  0.994888   \n",
       "\n",
       "        20930000  30150000  57890000  66067929  121979183  141347565  \\\n",
       "209858  0.991833  0.994959  0.997477  0.997987   0.999057   0.999435   \n",
       "821826  0.996964  0.997936  0.998789  0.999037   0.999462   0.999695   \n",
       "466275  0.996669  0.998025  0.998983  0.999159   0.999621   0.999743   \n",
       "714328  0.997094  0.997908  0.998678  0.998940   0.999408   0.999669   \n",
       "708684  0.996964  0.997936  0.998789  0.999037   0.999462   0.999695   \n",
       "...          ...       ...       ...       ...        ...        ...   \n",
       "152718  0.913386  0.944532  0.978274  0.982203   0.993720   0.995740   \n",
       "973604  0.996180  0.997515  0.998616  0.998896   0.999422   0.999667   \n",
       "436656  0.996180  0.997515  0.998616  0.998896   0.999422   0.999667   \n",
       "287801  0.996180  0.997515  0.998616  0.998896   0.999422   0.999667   \n",
       "91646   0.996180  0.997515  0.998616  0.998896   0.999422   0.999667   \n",
       "\n",
       "        147058830001  \n",
       "209858           1.0  \n",
       "821826           1.0  \n",
       "466275           1.0  \n",
       "714328           1.0  \n",
       "708684           1.0  \n",
       "...              ...  \n",
       "152718           1.0  \n",
       "973604           1.0  \n",
       "436656           1.0  \n",
       "287801           1.0  \n",
       "91646            1.0  \n",
       "\n",
       "[269156 rows x 63 columns]"
      ],
      "text/html": [
       "<div>\n",
       "<style scoped>\n",
       "    .dataframe tbody tr th:only-of-type {\n",
       "        vertical-align: middle;\n",
       "    }\n",
       "\n",
       "    .dataframe tbody tr th {\n",
       "        vertical-align: top;\n",
       "    }\n",
       "\n",
       "    .dataframe thead th {\n",
       "        text-align: right;\n",
       "    }\n",
       "</style>\n",
       "<table border=\"1\" class=\"dataframe\">\n",
       "  <thead>\n",
       "    <tr style=\"text-align: right;\">\n",
       "      <th></th>\n",
       "      <th>country</th>\n",
       "      <th>50000</th>\n",
       "      <th>90000</th>\n",
       "      <th>110000</th>\n",
       "      <th>140000</th>\n",
       "      <th>150000</th>\n",
       "      <th>160000</th>\n",
       "      <th>180000</th>\n",
       "      <th>200000</th>\n",
       "      <th>220000</th>\n",
       "      <th>...</th>\n",
       "      <th>14300000</th>\n",
       "      <th>14790000</th>\n",
       "      <th>16690000</th>\n",
       "      <th>20930000</th>\n",
       "      <th>30150000</th>\n",
       "      <th>57890000</th>\n",
       "      <th>66067929</th>\n",
       "      <th>121979183</th>\n",
       "      <th>141347565</th>\n",
       "      <th>147058830001</th>\n",
       "    </tr>\n",
       "  </thead>\n",
       "  <tbody>\n",
       "    <tr>\n",
       "      <th>209858</th>\n",
       "      <td>us</td>\n",
       "      <td>0.003874</td>\n",
       "      <td>0.008761</td>\n",
       "      <td>0.014418</td>\n",
       "      <td>0.022792</td>\n",
       "      <td>0.027668</td>\n",
       "      <td>0.033122</td>\n",
       "      <td>0.040019</td>\n",
       "      <td>0.049081</td>\n",
       "      <td>0.059618</td>\n",
       "      <td>...</td>\n",
       "      <td>0.986451</td>\n",
       "      <td>0.987157</td>\n",
       "      <td>0.988959</td>\n",
       "      <td>0.991833</td>\n",
       "      <td>0.994959</td>\n",
       "      <td>0.997477</td>\n",
       "      <td>0.997987</td>\n",
       "      <td>0.999057</td>\n",
       "      <td>0.999435</td>\n",
       "      <td>1.0</td>\n",
       "    </tr>\n",
       "    <tr>\n",
       "      <th>821826</th>\n",
       "      <td>us</td>\n",
       "      <td>0.036919</td>\n",
       "      <td>0.087013</td>\n",
       "      <td>0.126278</td>\n",
       "      <td>0.172891</td>\n",
       "      <td>0.192556</td>\n",
       "      <td>0.216781</td>\n",
       "      <td>0.248135</td>\n",
       "      <td>0.278577</td>\n",
       "      <td>0.308797</td>\n",
       "      <td>...</td>\n",
       "      <td>0.994904</td>\n",
       "      <td>0.995255</td>\n",
       "      <td>0.995998</td>\n",
       "      <td>0.996964</td>\n",
       "      <td>0.997936</td>\n",
       "      <td>0.998789</td>\n",
       "      <td>0.999037</td>\n",
       "      <td>0.999462</td>\n",
       "      <td>0.999695</td>\n",
       "      <td>1.0</td>\n",
       "    </tr>\n",
       "    <tr>\n",
       "      <th>466275</th>\n",
       "      <td>ru</td>\n",
       "      <td>0.001075</td>\n",
       "      <td>0.001894</td>\n",
       "      <td>0.003829</td>\n",
       "      <td>0.006651</td>\n",
       "      <td>0.007815</td>\n",
       "      <td>0.009154</td>\n",
       "      <td>0.011013</td>\n",
       "      <td>0.013473</td>\n",
       "      <td>0.017664</td>\n",
       "      <td>...</td>\n",
       "      <td>0.994327</td>\n",
       "      <td>0.994613</td>\n",
       "      <td>0.995398</td>\n",
       "      <td>0.996669</td>\n",
       "      <td>0.998025</td>\n",
       "      <td>0.998983</td>\n",
       "      <td>0.999159</td>\n",
       "      <td>0.999621</td>\n",
       "      <td>0.999743</td>\n",
       "      <td>1.0</td>\n",
       "    </tr>\n",
       "    <tr>\n",
       "      <th>714328</th>\n",
       "      <td>jp</td>\n",
       "      <td>0.039078</td>\n",
       "      <td>0.097545</td>\n",
       "      <td>0.150668</td>\n",
       "      <td>0.214402</td>\n",
       "      <td>0.238008</td>\n",
       "      <td>0.267311</td>\n",
       "      <td>0.310004</td>\n",
       "      <td>0.346752</td>\n",
       "      <td>0.382237</td>\n",
       "      <td>...</td>\n",
       "      <td>0.995233</td>\n",
       "      <td>0.995593</td>\n",
       "      <td>0.996270</td>\n",
       "      <td>0.997094</td>\n",
       "      <td>0.997908</td>\n",
       "      <td>0.998678</td>\n",
       "      <td>0.998940</td>\n",
       "      <td>0.999408</td>\n",
       "      <td>0.999669</td>\n",
       "      <td>1.0</td>\n",
       "    </tr>\n",
       "    <tr>\n",
       "      <th>708684</th>\n",
       "      <td>us</td>\n",
       "      <td>0.036919</td>\n",
       "      <td>0.087013</td>\n",
       "      <td>0.126278</td>\n",
       "      <td>0.172891</td>\n",
       "      <td>0.192556</td>\n",
       "      <td>0.216781</td>\n",
       "      <td>0.248135</td>\n",
       "      <td>0.278577</td>\n",
       "      <td>0.308797</td>\n",
       "      <td>...</td>\n",
       "      <td>0.994904</td>\n",
       "      <td>0.995255</td>\n",
       "      <td>0.995998</td>\n",
       "      <td>0.996964</td>\n",
       "      <td>0.997936</td>\n",
       "      <td>0.998789</td>\n",
       "      <td>0.999037</td>\n",
       "      <td>0.999462</td>\n",
       "      <td>0.999695</td>\n",
       "      <td>1.0</td>\n",
       "    </tr>\n",
       "    <tr>\n",
       "      <th>...</th>\n",
       "      <td>...</td>\n",
       "      <td>...</td>\n",
       "      <td>...</td>\n",
       "      <td>...</td>\n",
       "      <td>...</td>\n",
       "      <td>...</td>\n",
       "      <td>...</td>\n",
       "      <td>...</td>\n",
       "      <td>...</td>\n",
       "      <td>...</td>\n",
       "      <td>...</td>\n",
       "      <td>...</td>\n",
       "      <td>...</td>\n",
       "      <td>...</td>\n",
       "      <td>...</td>\n",
       "      <td>...</td>\n",
       "      <td>...</td>\n",
       "      <td>...</td>\n",
       "      <td>...</td>\n",
       "      <td>...</td>\n",
       "      <td>...</td>\n",
       "    </tr>\n",
       "    <tr>\n",
       "      <th>152718</th>\n",
       "      <td>us</td>\n",
       "      <td>0.000221</td>\n",
       "      <td>0.000353</td>\n",
       "      <td>0.000698</td>\n",
       "      <td>0.001229</td>\n",
       "      <td>0.001716</td>\n",
       "      <td>0.002546</td>\n",
       "      <td>0.003238</td>\n",
       "      <td>0.004287</td>\n",
       "      <td>0.005806</td>\n",
       "      <td>...</td>\n",
       "      <td>0.866903</td>\n",
       "      <td>0.871896</td>\n",
       "      <td>0.888079</td>\n",
       "      <td>0.913386</td>\n",
       "      <td>0.944532</td>\n",
       "      <td>0.978274</td>\n",
       "      <td>0.982203</td>\n",
       "      <td>0.993720</td>\n",
       "      <td>0.995740</td>\n",
       "      <td>1.0</td>\n",
       "    </tr>\n",
       "    <tr>\n",
       "      <th>973604</th>\n",
       "      <td>us</td>\n",
       "      <td>0.016664</td>\n",
       "      <td>0.039757</td>\n",
       "      <td>0.060395</td>\n",
       "      <td>0.088179</td>\n",
       "      <td>0.100931</td>\n",
       "      <td>0.115704</td>\n",
       "      <td>0.135135</td>\n",
       "      <td>0.156114</td>\n",
       "      <td>0.177935</td>\n",
       "      <td>...</td>\n",
       "      <td>0.993574</td>\n",
       "      <td>0.993976</td>\n",
       "      <td>0.994888</td>\n",
       "      <td>0.996180</td>\n",
       "      <td>0.997515</td>\n",
       "      <td>0.998616</td>\n",
       "      <td>0.998896</td>\n",
       "      <td>0.999422</td>\n",
       "      <td>0.999667</td>\n",
       "      <td>1.0</td>\n",
       "    </tr>\n",
       "    <tr>\n",
       "      <th>436656</th>\n",
       "      <td>us</td>\n",
       "      <td>0.016664</td>\n",
       "      <td>0.039757</td>\n",
       "      <td>0.060395</td>\n",
       "      <td>0.088179</td>\n",
       "      <td>0.100931</td>\n",
       "      <td>0.115704</td>\n",
       "      <td>0.135135</td>\n",
       "      <td>0.156114</td>\n",
       "      <td>0.177935</td>\n",
       "      <td>...</td>\n",
       "      <td>0.993574</td>\n",
       "      <td>0.993976</td>\n",
       "      <td>0.994888</td>\n",
       "      <td>0.996180</td>\n",
       "      <td>0.997515</td>\n",
       "      <td>0.998616</td>\n",
       "      <td>0.998896</td>\n",
       "      <td>0.999422</td>\n",
       "      <td>0.999667</td>\n",
       "      <td>1.0</td>\n",
       "    </tr>\n",
       "    <tr>\n",
       "      <th>287801</th>\n",
       "      <td>us</td>\n",
       "      <td>0.016664</td>\n",
       "      <td>0.039757</td>\n",
       "      <td>0.060395</td>\n",
       "      <td>0.088179</td>\n",
       "      <td>0.100931</td>\n",
       "      <td>0.115704</td>\n",
       "      <td>0.135135</td>\n",
       "      <td>0.156114</td>\n",
       "      <td>0.177935</td>\n",
       "      <td>...</td>\n",
       "      <td>0.993574</td>\n",
       "      <td>0.993976</td>\n",
       "      <td>0.994888</td>\n",
       "      <td>0.996180</td>\n",
       "      <td>0.997515</td>\n",
       "      <td>0.998616</td>\n",
       "      <td>0.998896</td>\n",
       "      <td>0.999422</td>\n",
       "      <td>0.999667</td>\n",
       "      <td>1.0</td>\n",
       "    </tr>\n",
       "    <tr>\n",
       "      <th>91646</th>\n",
       "      <td>us</td>\n",
       "      <td>0.016664</td>\n",
       "      <td>0.039757</td>\n",
       "      <td>0.060395</td>\n",
       "      <td>0.088179</td>\n",
       "      <td>0.100931</td>\n",
       "      <td>0.115704</td>\n",
       "      <td>0.135135</td>\n",
       "      <td>0.156114</td>\n",
       "      <td>0.177935</td>\n",
       "      <td>...</td>\n",
       "      <td>0.993574</td>\n",
       "      <td>0.993976</td>\n",
       "      <td>0.994888</td>\n",
       "      <td>0.996180</td>\n",
       "      <td>0.997515</td>\n",
       "      <td>0.998616</td>\n",
       "      <td>0.998896</td>\n",
       "      <td>0.999422</td>\n",
       "      <td>0.999667</td>\n",
       "      <td>1.0</td>\n",
       "    </tr>\n",
       "  </tbody>\n",
       "</table>\n",
       "<p>269156 rows × 63 columns</p>\n",
       "</div>"
      ]
     },
     "metadata": {},
     "execution_count": 624
    }
   ],
   "metadata": {}
  },
  {
   "cell_type": "code",
   "execution_count": 625,
   "source": [
    "# delet\n",
    "ax = pred_country_df.groupby('country').mean().T.plot(figsize=(8, 8))\n",
    "ax.set_xscale('log')\n",
    "plt.vlines(bins, 0, 1, alpha=0.2)\n",
    "plt.xlabel('Bid in Micros')\n",
    "plt.ylabel('Estimated win-rate')\n",
    "plt.legend();\n",
    "\n",
    "# bins = 295\n",
    "# minimum_bid_to_win"
   ],
   "outputs": [
    {
     "output_type": "display_data",
     "data": {
      "text/plain": [
       "<Figure size 576x576 with 1 Axes>"
      ],
      "image/png": "[encoded data removed]"
     },
     "metadata": {
      "needs_background": "light"
     }
    }
   ],
   "metadata": {
    "scrolled": false
   }
  },
  {
   "cell_type": "code",
   "execution_count": 626,
   "source": [
    "nth_bin= np.digitize(test['win_price'],bins)\n",
    "test_bin = tf.one_hot(nth_bin, len(bins))\n",
    "print(test_bin.shape)\n",
    "\n",
    "\n",
    "actual_cumsum = np.cumsum(test_bin, axis=1)\n",
    "print(actual_cumsum.shape)"
   ],
   "outputs": [
    {
     "output_type": "stream",
     "name": "stdout",
     "text": [
      "(269156, 63)\n",
      "(269156, 63)\n"
     ]
    }
   ],
   "metadata": {}
  },
  {
   "cell_type": "code",
   "execution_count": 627,
   "source": [
    "actual_cumsum_df = pd.DataFrame.from_records(actual_cumsum,index=test.index, columns=bins[0:])\n",
    "\n",
    "# merge country\n",
    "actual_cumsum_df = tmp.merge(actual_cumsum_df, left_index=True, right_index= True)"
   ],
   "outputs": [],
   "metadata": {}
  },
  {
   "cell_type": "code",
   "execution_count": null,
   "source": [],
   "outputs": [],
   "metadata": {}
  },
  {
   "cell_type": "code",
   "execution_count": 628,
   "source": [
    "actual_cumsum_df"
   ],
   "outputs": [
    {
     "output_type": "execute_result",
     "data": {
      "text/plain": [
       "       country    0  50000  90000  110000  140000  150000  160000  180000  \\\n",
       "209858      us  0.0    0.0    0.0     0.0     0.0     0.0     0.0     0.0   \n",
       "821826      us  0.0    0.0    0.0     0.0     0.0     0.0     0.0     0.0   \n",
       "466275      ru  0.0    0.0    0.0     0.0     0.0     0.0     0.0     0.0   \n",
       "714328      jp  0.0    0.0    0.0     0.0     0.0     0.0     0.0     0.0   \n",
       "708684      us  0.0    0.0    0.0     0.0     0.0     0.0     0.0     0.0   \n",
       "...        ...  ...    ...    ...     ...     ...     ...     ...     ...   \n",
       "152718      us  0.0    0.0    0.0     0.0     0.0     0.0     0.0     0.0   \n",
       "973604      us  0.0    0.0    0.0     0.0     0.0     0.0     0.0     0.0   \n",
       "436656      us  0.0    0.0    0.0     0.0     0.0     0.0     0.0     0.0   \n",
       "287801      us  0.0    0.0    0.0     0.0     0.0     0.0     0.0     0.0   \n",
       "91646       us  0.0    0.0    0.0     0.0     0.0     0.0     0.0     0.0   \n",
       "\n",
       "        200000  ...  14300000  14790000  16690000  20930000  30150000  \\\n",
       "209858     0.0  ...       1.0       1.0       1.0       1.0       1.0   \n",
       "821826     0.0  ...       1.0       1.0       1.0       1.0       1.0   \n",
       "466275     0.0  ...       0.0       0.0       0.0       1.0       1.0   \n",
       "714328     0.0  ...       1.0       1.0       1.0       1.0       1.0   \n",
       "708684     0.0  ...       1.0       1.0       1.0       1.0       1.0   \n",
       "...        ...  ...       ...       ...       ...       ...       ...   \n",
       "152718     0.0  ...       1.0       1.0       1.0       1.0       1.0   \n",
       "973604     0.0  ...       1.0       1.0       1.0       1.0       1.0   \n",
       "436656     0.0  ...       1.0       1.0       1.0       1.0       1.0   \n",
       "287801     0.0  ...       1.0       1.0       1.0       1.0       1.0   \n",
       "91646      0.0  ...       1.0       1.0       1.0       1.0       1.0   \n",
       "\n",
       "        57890000  66067929  121979183  141347565  147058830001  \n",
       "209858       1.0       1.0        1.0        1.0           1.0  \n",
       "821826       1.0       1.0        1.0        1.0           1.0  \n",
       "466275       1.0       1.0        1.0        1.0           1.0  \n",
       "714328       1.0       1.0        1.0        1.0           1.0  \n",
       "708684       1.0       1.0        1.0        1.0           1.0  \n",
       "...          ...       ...        ...        ...           ...  \n",
       "152718       1.0       1.0        1.0        1.0           1.0  \n",
       "973604       1.0       1.0        1.0        1.0           1.0  \n",
       "436656       1.0       1.0        1.0        1.0           1.0  \n",
       "287801       1.0       1.0        1.0        1.0           1.0  \n",
       "91646        1.0       1.0        1.0        1.0           1.0  \n",
       "\n",
       "[269156 rows x 64 columns]"
      ],
      "text/html": [
       "<div>\n",
       "<style scoped>\n",
       "    .dataframe tbody tr th:only-of-type {\n",
       "        vertical-align: middle;\n",
       "    }\n",
       "\n",
       "    .dataframe tbody tr th {\n",
       "        vertical-align: top;\n",
       "    }\n",
       "\n",
       "    .dataframe thead th {\n",
       "        text-align: right;\n",
       "    }\n",
       "</style>\n",
       "<table border=\"1\" class=\"dataframe\">\n",
       "  <thead>\n",
       "    <tr style=\"text-align: right;\">\n",
       "      <th></th>\n",
       "      <th>country</th>\n",
       "      <th>0</th>\n",
       "      <th>50000</th>\n",
       "      <th>90000</th>\n",
       "      <th>110000</th>\n",
       "      <th>140000</th>\n",
       "      <th>150000</th>\n",
       "      <th>160000</th>\n",
       "      <th>180000</th>\n",
       "      <th>200000</th>\n",
       "      <th>...</th>\n",
       "      <th>14300000</th>\n",
       "      <th>14790000</th>\n",
       "      <th>16690000</th>\n",
       "      <th>20930000</th>\n",
       "      <th>30150000</th>\n",
       "      <th>57890000</th>\n",
       "      <th>66067929</th>\n",
       "      <th>121979183</th>\n",
       "      <th>141347565</th>\n",
       "      <th>147058830001</th>\n",
       "    </tr>\n",
       "  </thead>\n",
       "  <tbody>\n",
       "    <tr>\n",
       "      <th>209858</th>\n",
       "      <td>us</td>\n",
       "      <td>0.0</td>\n",
       "      <td>0.0</td>\n",
       "      <td>0.0</td>\n",
       "      <td>0.0</td>\n",
       "      <td>0.0</td>\n",
       "      <td>0.0</td>\n",
       "      <td>0.0</td>\n",
       "      <td>0.0</td>\n",
       "      <td>0.0</td>\n",
       "      <td>...</td>\n",
       "      <td>1.0</td>\n",
       "      <td>1.0</td>\n",
       "      <td>1.0</td>\n",
       "      <td>1.0</td>\n",
       "      <td>1.0</td>\n",
       "      <td>1.0</td>\n",
       "      <td>1.0</td>\n",
       "      <td>1.0</td>\n",
       "      <td>1.0</td>\n",
       "      <td>1.0</td>\n",
       "    </tr>\n",
       "    <tr>\n",
       "      <th>821826</th>\n",
       "      <td>us</td>\n",
       "      <td>0.0</td>\n",
       "      <td>0.0</td>\n",
       "      <td>0.0</td>\n",
       "      <td>0.0</td>\n",
       "      <td>0.0</td>\n",
       "      <td>0.0</td>\n",
       "      <td>0.0</td>\n",
       "      <td>0.0</td>\n",
       "      <td>0.0</td>\n",
       "      <td>...</td>\n",
       "      <td>1.0</td>\n",
       "      <td>1.0</td>\n",
       "      <td>1.0</td>\n",
       "      <td>1.0</td>\n",
       "      <td>1.0</td>\n",
       "      <td>1.0</td>\n",
       "      <td>1.0</td>\n",
       "      <td>1.0</td>\n",
       "      <td>1.0</td>\n",
       "      <td>1.0</td>\n",
       "    </tr>\n",
       "    <tr>\n",
       "      <th>466275</th>\n",
       "      <td>ru</td>\n",
       "      <td>0.0</td>\n",
       "      <td>0.0</td>\n",
       "      <td>0.0</td>\n",
       "      <td>0.0</td>\n",
       "      <td>0.0</td>\n",
       "      <td>0.0</td>\n",
       "      <td>0.0</td>\n",
       "      <td>0.0</td>\n",
       "      <td>0.0</td>\n",
       "      <td>...</td>\n",
       "      <td>0.0</td>\n",
       "      <td>0.0</td>\n",
       "      <td>0.0</td>\n",
       "      <td>1.0</td>\n",
       "      <td>1.0</td>\n",
       "      <td>1.0</td>\n",
       "      <td>1.0</td>\n",
       "      <td>1.0</td>\n",
       "      <td>1.0</td>\n",
       "      <td>1.0</td>\n",
       "    </tr>\n",
       "    <tr>\n",
       "      <th>714328</th>\n",
       "      <td>jp</td>\n",
       "      <td>0.0</td>\n",
       "      <td>0.0</td>\n",
       "      <td>0.0</td>\n",
       "      <td>0.0</td>\n",
       "      <td>0.0</td>\n",
       "      <td>0.0</td>\n",
       "      <td>0.0</td>\n",
       "      <td>0.0</td>\n",
       "      <td>0.0</td>\n",
       "      <td>...</td>\n",
       "      <td>1.0</td>\n",
       "      <td>1.0</td>\n",
       "      <td>1.0</td>\n",
       "      <td>1.0</td>\n",
       "      <td>1.0</td>\n",
       "      <td>1.0</td>\n",
       "      <td>1.0</td>\n",
       "      <td>1.0</td>\n",
       "      <td>1.0</td>\n",
       "      <td>1.0</td>\n",
       "    </tr>\n",
       "    <tr>\n",
       "      <th>708684</th>\n",
       "      <td>us</td>\n",
       "      <td>0.0</td>\n",
       "      <td>0.0</td>\n",
       "      <td>0.0</td>\n",
       "      <td>0.0</td>\n",
       "      <td>0.0</td>\n",
       "      <td>0.0</td>\n",
       "      <td>0.0</td>\n",
       "      <td>0.0</td>\n",
       "      <td>0.0</td>\n",
       "      <td>...</td>\n",
       "      <td>1.0</td>\n",
       "      <td>1.0</td>\n",
       "      <td>1.0</td>\n",
       "      <td>1.0</td>\n",
       "      <td>1.0</td>\n",
       "      <td>1.0</td>\n",
       "      <td>1.0</td>\n",
       "      <td>1.0</td>\n",
       "      <td>1.0</td>\n",
       "      <td>1.0</td>\n",
       "    </tr>\n",
       "    <tr>\n",
       "      <th>...</th>\n",
       "      <td>...</td>\n",
       "      <td>...</td>\n",
       "      <td>...</td>\n",
       "      <td>...</td>\n",
       "      <td>...</td>\n",
       "      <td>...</td>\n",
       "      <td>...</td>\n",
       "      <td>...</td>\n",
       "      <td>...</td>\n",
       "      <td>...</td>\n",
       "      <td>...</td>\n",
       "      <td>...</td>\n",
       "      <td>...</td>\n",
       "      <td>...</td>\n",
       "      <td>...</td>\n",
       "      <td>...</td>\n",
       "      <td>...</td>\n",
       "      <td>...</td>\n",
       "      <td>...</td>\n",
       "      <td>...</td>\n",
       "      <td>...</td>\n",
       "    </tr>\n",
       "    <tr>\n",
       "      <th>152718</th>\n",
       "      <td>us</td>\n",
       "      <td>0.0</td>\n",
       "      <td>0.0</td>\n",
       "      <td>0.0</td>\n",
       "      <td>0.0</td>\n",
       "      <td>0.0</td>\n",
       "      <td>0.0</td>\n",
       "      <td>0.0</td>\n",
       "      <td>0.0</td>\n",
       "      <td>0.0</td>\n",
       "      <td>...</td>\n",
       "      <td>1.0</td>\n",
       "      <td>1.0</td>\n",
       "      <td>1.0</td>\n",
       "      <td>1.0</td>\n",
       "      <td>1.0</td>\n",
       "      <td>1.0</td>\n",
       "      <td>1.0</td>\n",
       "      <td>1.0</td>\n",
       "      <td>1.0</td>\n",
       "      <td>1.0</td>\n",
       "    </tr>\n",
       "    <tr>\n",
       "      <th>973604</th>\n",
       "      <td>us</td>\n",
       "      <td>0.0</td>\n",
       "      <td>0.0</td>\n",
       "      <td>0.0</td>\n",
       "      <td>0.0</td>\n",
       "      <td>0.0</td>\n",
       "      <td>0.0</td>\n",
       "      <td>0.0</td>\n",
       "      <td>0.0</td>\n",
       "      <td>0.0</td>\n",
       "      <td>...</td>\n",
       "      <td>1.0</td>\n",
       "      <td>1.0</td>\n",
       "      <td>1.0</td>\n",
       "      <td>1.0</td>\n",
       "      <td>1.0</td>\n",
       "      <td>1.0</td>\n",
       "      <td>1.0</td>\n",
       "      <td>1.0</td>\n",
       "      <td>1.0</td>\n",
       "      <td>1.0</td>\n",
       "    </tr>\n",
       "    <tr>\n",
       "      <th>436656</th>\n",
       "      <td>us</td>\n",
       "      <td>0.0</td>\n",
       "      <td>0.0</td>\n",
       "      <td>0.0</td>\n",
       "      <td>0.0</td>\n",
       "      <td>0.0</td>\n",
       "      <td>0.0</td>\n",
       "      <td>0.0</td>\n",
       "      <td>0.0</td>\n",
       "      <td>0.0</td>\n",
       "      <td>...</td>\n",
       "      <td>1.0</td>\n",
       "      <td>1.0</td>\n",
       "      <td>1.0</td>\n",
       "      <td>1.0</td>\n",
       "      <td>1.0</td>\n",
       "      <td>1.0</td>\n",
       "      <td>1.0</td>\n",
       "      <td>1.0</td>\n",
       "      <td>1.0</td>\n",
       "      <td>1.0</td>\n",
       "    </tr>\n",
       "    <tr>\n",
       "      <th>287801</th>\n",
       "      <td>us</td>\n",
       "      <td>0.0</td>\n",
       "      <td>0.0</td>\n",
       "      <td>0.0</td>\n",
       "      <td>0.0</td>\n",
       "      <td>0.0</td>\n",
       "      <td>0.0</td>\n",
       "      <td>0.0</td>\n",
       "      <td>0.0</td>\n",
       "      <td>0.0</td>\n",
       "      <td>...</td>\n",
       "      <td>1.0</td>\n",
       "      <td>1.0</td>\n",
       "      <td>1.0</td>\n",
       "      <td>1.0</td>\n",
       "      <td>1.0</td>\n",
       "      <td>1.0</td>\n",
       "      <td>1.0</td>\n",
       "      <td>1.0</td>\n",
       "      <td>1.0</td>\n",
       "      <td>1.0</td>\n",
       "    </tr>\n",
       "    <tr>\n",
       "      <th>91646</th>\n",
       "      <td>us</td>\n",
       "      <td>0.0</td>\n",
       "      <td>0.0</td>\n",
       "      <td>0.0</td>\n",
       "      <td>0.0</td>\n",
       "      <td>0.0</td>\n",
       "      <td>0.0</td>\n",
       "      <td>0.0</td>\n",
       "      <td>0.0</td>\n",
       "      <td>0.0</td>\n",
       "      <td>...</td>\n",
       "      <td>1.0</td>\n",
       "      <td>1.0</td>\n",
       "      <td>1.0</td>\n",
       "      <td>1.0</td>\n",
       "      <td>1.0</td>\n",
       "      <td>1.0</td>\n",
       "      <td>1.0</td>\n",
       "      <td>1.0</td>\n",
       "      <td>1.0</td>\n",
       "      <td>1.0</td>\n",
       "    </tr>\n",
       "  </tbody>\n",
       "</table>\n",
       "<p>269156 rows × 64 columns</p>\n",
       "</div>"
      ]
     },
     "metadata": {},
     "execution_count": 628
    }
   ],
   "metadata": {}
  },
  {
   "cell_type": "code",
   "execution_count": null,
   "source": [
    "actual_cumsum_df.groupby('country').mean().T.columns"
   ],
   "outputs": [],
   "metadata": {}
  },
  {
   "cell_type": "code",
   "execution_count": null,
   "source": [
    "actual_cumsum_df.groupby('country').mean().index.shape[0]"
   ],
   "outputs": [],
   "metadata": {}
  },
  {
   "cell_type": "code",
   "execution_count": 162,
   "source": [],
   "outputs": [
    {
     "output_type": "execute_result",
     "data": {
      "text/plain": [
       "<matplotlib.colors.ListedColormap at 0x7f3491dfedc0>"
      ]
     },
     "metadata": {},
     "execution_count": 162
    }
   ],
   "metadata": {}
  },
  {
   "cell_type": "code",
   "execution_count": 629,
   "source": [
    "from matplotlib.pyplot import cm\n",
    "color = cm.Set1\n",
    "color\n",
    "\n",
    "\n",
    "temp = actual_cumsum_df.groupby('country').mean().T\n",
    "temp.columns = ['actual '+s for s in temp.columns]\n",
    "ax = temp.plot(linestyle='dashed')\n",
    "ax.set_prop_cycle(None)\n",
    "\n",
    "temp = pred_country_df.groupby('country').mean().T\n",
    "temp.columns = ['predict '+s for s in temp.columns]\n",
    "temp.plot(linestyle='-', ax=ax, figsize=(8,8))\n",
    "\n",
    "ax.set_xscale('log')\n",
    "\n",
    "plt.vlines(bins, 0, 1, alpha=0.2)\n",
    "plt.xlabel('Bid in Micros')\n",
    "plt.ylabel('Estimated win-rate');\n",
    "\n"
   ],
   "outputs": [
    {
     "output_type": "display_data",
     "data": {
      "text/plain": [
       "<Figure size 576x576 with 1 Axes>"
      ],
      "image/png": "[encoded data removed]"
     },
     "metadata": {
      "needs_background": "light"
     }
    }
   ],
   "metadata": {}
  },
  {
   "cell_type": "code",
   "execution_count": 704,
   "source": [
    "# only plot japan because the mean cdf plot for japen seems not well predicted\n",
    "\n",
    "pred_cdf_jp = pred_country_df[pred_country_df['country'] == 'jp'].set_index('country')\n",
    "actural_cdf_jp = actual_cumsum_df[actual_cumsum_df['country'] == 'jp'].set_index('country')\n",
    "\n",
    "ax = pred_cdf_jp.iloc[10].T.plot() # kind = 'kde' for checking pdf\n",
    "ax.set_xscale('log')\n",
    "\n",
    "ax = actural_cdf_jp.iloc[10].T.plot(ax=ax) # kind = 'kde'\n",
    "ax.set_xscale('log')\n",
    "\n",
    "ax.legend([\"pred_jp\", \"actual_jp\"])\n"
   ],
   "outputs": [
    {
     "output_type": "execute_result",
     "data": {
      "text/plain": [
       "<matplotlib.legend.Legend at 0x7f325b4dd880>"
      ]
     },
     "metadata": {},
     "execution_count": 704
    },
    {
     "output_type": "display_data",
     "data": {
      "text/plain": [
       "<Figure size 432x288 with 1 Axes>"
      ],
      "image/png": "[encoded data removed]"
     },
     "metadata": {
      "needs_background": "light"
     }
    }
   ],
   "metadata": {}
  },
  {
   "cell_type": "markdown",
   "source": [
    "---"
   ],
   "metadata": {}
  },
  {
   "cell_type": "markdown",
   "source": [
    "# Test for Lognormal"
   ],
   "metadata": {}
  },
  {
   "cell_type": "code",
   "execution_count": 514,
   "source": [
    "#!pip install --upgrade tensorflow-probability"
   ],
   "outputs": [
    {
     "output_type": "stream",
     "name": "stdout",
     "text": [
      "Looking in indexes: http://api1.dw1.remerge.io:31337/simple, https://pypi.org/simple\n",
      "Requirement already satisfied: tensorflow-probability in /home/xin/.conda/envs/py38/lib/python3.8/site-packages (0.13.0)\n",
      "Requirement already satisfied: numpy>=1.13.3 in /home/xin/.local/lib/python3.8/site-packages (from tensorflow-probability) (1.19.5)\n",
      "Requirement already satisfied: decorator in /home/xin/.conda/envs/py38/lib/python3.8/site-packages (from tensorflow-probability) (5.0.9)\n",
      "Requirement already satisfied: six>=1.10.0 in /home/xin/.conda/envs/py38/lib/python3.8/site-packages (from tensorflow-probability) (1.16.0)\n",
      "Requirement already satisfied: cloudpickle>=1.3 in /home/xin/.conda/envs/py38/lib/python3.8/site-packages (from tensorflow-probability) (1.6.0)\n",
      "Requirement already satisfied: dm-tree in /home/xin/.conda/envs/py38/lib/python3.8/site-packages (from tensorflow-probability) (0.1.6)\n",
      "Requirement already satisfied: gast>=0.3.2 in /home/xin/.local/lib/python3.8/site-packages (from tensorflow-probability) (0.4.0)\n"
     ]
    }
   ],
   "metadata": {}
  },
  {
   "cell_type": "code",
   "execution_count": 517,
   "source": [
    "import tensorflow_probability as tfp"
   ],
   "outputs": [],
   "metadata": {}
  },
  {
   "cell_type": "code",
   "execution_count": 522,
   "source": [
    "loc = 1\n",
    "scale = 1\n",
    "\n",
    "LN = tfp.distributions.LogNormal(\n",
    "    loc, scale, validate_args=False, allow_nan_stats=True,\n",
    "    name='LogNormal')"
   ],
   "outputs": [],
   "metadata": {}
  },
  {
   "cell_type": "code",
   "execution_count": 523,
   "source": [
    "LN.prob([1,2,3])"
   ],
   "outputs": [
    {
     "output_type": "execute_result",
     "data": {
      "text/plain": [
       "<tf.Tensor: shape=(3,), dtype=float32, numpy=array([0.24197073, 0.19029781, 0.13233575], dtype=float32)>"
      ]
     },
     "metadata": {},
     "execution_count": 523
    }
   ],
   "metadata": {}
  }
 ],
 "metadata": {
  "kernelspec": {
   "display_name": "Python [conda env:.conda-py38]",
   "language": "python",
   "name": "conda-env-.conda-py38-py"
  },
  "language_info": {
   "codemirror_mode": {
    "name": "ipython",
    "version": 3
   },
   "file_extension": ".py",
   "mimetype": "text/x-python",
   "name": "python",
   "nbconvert_exporter": "python",
   "pygments_lexer": "ipython3",
   "version": "3.8.10"
  }
 },
 "nbformat": 4,
 "nbformat_minor": 4
}